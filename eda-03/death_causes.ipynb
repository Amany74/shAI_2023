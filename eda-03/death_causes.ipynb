{
  "cells": [
    {
      "attachments": {},
      "cell_type": "markdown",
      "metadata": {},
      "source": [
        "# New York city deaths\n",
        "**Basic EDA**\n",
        "1. show shape of all the data and each column\n",
        "2. deal missing or b=null values  \n",
        "3. Describe "
      ]
    },
    {
      "cell_type": "code",
      "execution_count": 61,
      "metadata": {
        "id": "fzyVubJY7Mll"
      },
      "outputs": [],
      "source": [
        "import pandas as pd\n",
        "import numpy as np\n",
        "from math import *\n",
        "import plotly.express as px"
      ]
    },
    {
      "cell_type": "code",
      "execution_count": 27,
      "metadata": {
        "id": "i1ZgNWzA5o4Q"
      },
      "outputs": [],
      "source": [
        "# Read the Dataset\n",
        "deaths = pd.read_csv(\"./New_York_City_Leading_Causes_of_Death.csv\")"
      ]
    },
    {
      "cell_type": "code",
      "execution_count": 21,
      "metadata": {
        "colab": {
          "base_uri": "https://localhost:8080/",
          "height": 206
        },
        "id": "hq7TJI9i7Wal",
        "outputId": "be2fffa2-7c4b-4a8c-c41b-47176c60e5df"
      },
      "outputs": [
        {
          "data": {
            "text/html": [
              "<div>\n",
              "<style scoped>\n",
              "    .dataframe tbody tr th:only-of-type {\n",
              "        vertical-align: middle;\n",
              "    }\n",
              "\n",
              "    .dataframe tbody tr th {\n",
              "        vertical-align: top;\n",
              "    }\n",
              "\n",
              "    .dataframe thead th {\n",
              "        text-align: right;\n",
              "    }\n",
              "</style>\n",
              "<table border=\"1\" class=\"dataframe\">\n",
              "  <thead>\n",
              "    <tr style=\"text-align: right;\">\n",
              "      <th></th>\n",
              "      <th>Year</th>\n",
              "      <th>Leading Cause</th>\n",
              "      <th>Sex</th>\n",
              "      <th>Race Ethnicity</th>\n",
              "      <th>Deaths</th>\n",
              "      <th>Death Rate</th>\n",
              "      <th>Age Adjusted Death Rate</th>\n",
              "    </tr>\n",
              "  </thead>\n",
              "  <tbody>\n",
              "    <tr>\n",
              "      <th>0</th>\n",
              "      <td>2011</td>\n",
              "      <td>Chronic Lower Respiratory Diseases (J40-J47)</td>\n",
              "      <td>M</td>\n",
              "      <td>White Non-Hispanic</td>\n",
              "      <td>444</td>\n",
              "      <td>33.3</td>\n",
              "      <td>27.8</td>\n",
              "    </tr>\n",
              "    <tr>\n",
              "      <th>1</th>\n",
              "      <td>2008</td>\n",
              "      <td>Malignant Neoplasms (Cancer: C00-C97)</td>\n",
              "      <td>M</td>\n",
              "      <td>White Non-Hispanic</td>\n",
              "      <td>3361</td>\n",
              "      <td>250.4</td>\n",
              "      <td>214.3</td>\n",
              "    </tr>\n",
              "    <tr>\n",
              "      <th>2</th>\n",
              "      <td>2010</td>\n",
              "      <td>Chronic Liver Disease and Cirrhosis (K70, K73)</td>\n",
              "      <td>M</td>\n",
              "      <td>Hispanic</td>\n",
              "      <td>150</td>\n",
              "      <td>13.1</td>\n",
              "      <td>17.6</td>\n",
              "    </tr>\n",
              "    <tr>\n",
              "      <th>3</th>\n",
              "      <td>2014</td>\n",
              "      <td>Malignant Neoplasms (Cancer: C00-C97)</td>\n",
              "      <td>M</td>\n",
              "      <td>Hispanic</td>\n",
              "      <td>1146</td>\n",
              "      <td>96</td>\n",
              "      <td>143.5</td>\n",
              "    </tr>\n",
              "    <tr>\n",
              "      <th>4</th>\n",
              "      <td>2014</td>\n",
              "      <td>Certain Conditions originating in the Perinata...</td>\n",
              "      <td>M</td>\n",
              "      <td>Not Stated/Unknown</td>\n",
              "      <td>25</td>\n",
              "      <td>.</td>\n",
              "      <td>.</td>\n",
              "    </tr>\n",
              "  </tbody>\n",
              "</table>\n",
              "</div>"
            ],
            "text/plain": [
              "   Year                                      Leading Cause Sex  \\\n",
              "0  2011       Chronic Lower Respiratory Diseases (J40-J47)   M   \n",
              "1  2008              Malignant Neoplasms (Cancer: C00-C97)   M   \n",
              "2  2010     Chronic Liver Disease and Cirrhosis (K70, K73)   M   \n",
              "3  2014              Malignant Neoplasms (Cancer: C00-C97)   M   \n",
              "4  2014  Certain Conditions originating in the Perinata...   M   \n",
              "\n",
              "       Race Ethnicity Deaths Death Rate Age Adjusted Death Rate  \n",
              "0  White Non-Hispanic    444       33.3                    27.8  \n",
              "1  White Non-Hispanic   3361      250.4                   214.3  \n",
              "2            Hispanic    150       13.1                    17.6  \n",
              "3            Hispanic   1146         96                   143.5  \n",
              "4  Not Stated/Unknown     25          .                       .  "
            ]
          },
          "execution_count": 21,
          "metadata": {},
          "output_type": "execute_result"
        }
      ],
      "source": [
        "deaths.head(5)"
      ]
    },
    {
      "cell_type": "code",
      "execution_count": 22,
      "metadata": {
        "colab": {
          "base_uri": "https://localhost:8080/",
          "height": 206
        },
        "id": "aVHSQih_7yY3",
        "outputId": "870a6305-259b-4440-fdf9-53aa272fee35"
      },
      "outputs": [
        {
          "data": {
            "text/html": [
              "<div>\n",
              "<style scoped>\n",
              "    .dataframe tbody tr th:only-of-type {\n",
              "        vertical-align: middle;\n",
              "    }\n",
              "\n",
              "    .dataframe tbody tr th {\n",
              "        vertical-align: top;\n",
              "    }\n",
              "\n",
              "    .dataframe thead th {\n",
              "        text-align: right;\n",
              "    }\n",
              "</style>\n",
              "<table border=\"1\" class=\"dataframe\">\n",
              "  <thead>\n",
              "    <tr style=\"text-align: right;\">\n",
              "      <th></th>\n",
              "      <th>Year</th>\n",
              "      <th>Leading Cause</th>\n",
              "      <th>Sex</th>\n",
              "      <th>Race Ethnicity</th>\n",
              "      <th>Deaths</th>\n",
              "      <th>Death Rate</th>\n",
              "      <th>Age Adjusted Death Rate</th>\n",
              "    </tr>\n",
              "  </thead>\n",
              "  <tbody>\n",
              "    <tr>\n",
              "      <th>1089</th>\n",
              "      <td>2011</td>\n",
              "      <td>Mental and Behavioral Disorders due to Acciden...</td>\n",
              "      <td>M</td>\n",
              "      <td>Hispanic</td>\n",
              "      <td>145</td>\n",
              "      <td>12.6</td>\n",
              "      <td>13</td>\n",
              "    </tr>\n",
              "    <tr>\n",
              "      <th>1090</th>\n",
              "      <td>2013</td>\n",
              "      <td>Influenza (Flu) and Pneumonia (J09-J18)</td>\n",
              "      <td>M</td>\n",
              "      <td>Hispanic</td>\n",
              "      <td>233</td>\n",
              "      <td>19.7</td>\n",
              "      <td>33.1</td>\n",
              "    </tr>\n",
              "    <tr>\n",
              "      <th>1091</th>\n",
              "      <td>2007</td>\n",
              "      <td>Diabetes Mellitus (E10-E14)</td>\n",
              "      <td>F</td>\n",
              "      <td>White Non-Hispanic</td>\n",
              "      <td>231</td>\n",
              "      <td>16.1</td>\n",
              "      <td>9.8</td>\n",
              "    </tr>\n",
              "    <tr>\n",
              "      <th>1092</th>\n",
              "      <td>2010</td>\n",
              "      <td>Insitu or Benign / Uncertain Neoplasms (D00-D48)</td>\n",
              "      <td>F</td>\n",
              "      <td>Other Race/ Ethnicity</td>\n",
              "      <td>.</td>\n",
              "      <td>.</td>\n",
              "      <td>.</td>\n",
              "    </tr>\n",
              "    <tr>\n",
              "      <th>1093</th>\n",
              "      <td>2012</td>\n",
              "      <td>Diabetes Mellitus (E10-E14)</td>\n",
              "      <td>M</td>\n",
              "      <td>White Non-Hispanic</td>\n",
              "      <td>292</td>\n",
              "      <td>21.8</td>\n",
              "      <td>18.1</td>\n",
              "    </tr>\n",
              "  </tbody>\n",
              "</table>\n",
              "</div>"
            ],
            "text/plain": [
              "      Year                                      Leading Cause Sex  \\\n",
              "1089  2011  Mental and Behavioral Disorders due to Acciden...   M   \n",
              "1090  2013            Influenza (Flu) and Pneumonia (J09-J18)   M   \n",
              "1091  2007                        Diabetes Mellitus (E10-E14)   F   \n",
              "1092  2010   Insitu or Benign / Uncertain Neoplasms (D00-D48)   F   \n",
              "1093  2012                        Diabetes Mellitus (E10-E14)   M   \n",
              "\n",
              "             Race Ethnicity Deaths Death Rate Age Adjusted Death Rate  \n",
              "1089               Hispanic    145       12.6                      13  \n",
              "1090               Hispanic    233       19.7                    33.1  \n",
              "1091     White Non-Hispanic    231       16.1                     9.8  \n",
              "1092  Other Race/ Ethnicity      .          .                       .  \n",
              "1093     White Non-Hispanic    292       21.8                    18.1  "
            ]
          },
          "execution_count": 22,
          "metadata": {},
          "output_type": "execute_result"
        }
      ],
      "source": [
        "deaths.tail(5)"
      ]
    },
    {
      "cell_type": "code",
      "execution_count": 23,
      "metadata": {
        "colab": {
          "base_uri": "https://localhost:8080/"
        },
        "id": "JBs0Ao75735G",
        "outputId": "0820a76a-6e19-45f0-b250-0e23194293b4"
      },
      "outputs": [
        {
          "name": "stdout",
          "output_type": "stream",
          "text": [
            "<class 'pandas.core.frame.DataFrame'>\n",
            "RangeIndex: 1094 entries, 0 to 1093\n",
            "Data columns (total 7 columns):\n",
            " #   Column                   Non-Null Count  Dtype \n",
            "---  ------                   --------------  ----- \n",
            " 0   Year                     1094 non-null   int64 \n",
            " 1   Leading Cause            1094 non-null   object\n",
            " 2   Sex                      1094 non-null   object\n",
            " 3   Race Ethnicity           1094 non-null   object\n",
            " 4   Deaths                   1094 non-null   object\n",
            " 5   Death Rate               1094 non-null   object\n",
            " 6   Age Adjusted Death Rate  1094 non-null   object\n",
            "dtypes: int64(1), object(6)\n",
            "memory usage: 60.0+ KB\n"
          ]
        }
      ],
      "source": [
        "deaths.info()\n"
      ]
    },
    {
      "attachments": {},
      "cell_type": "markdown",
      "metadata": {},
      "source": [
        "### Some columns needs processing :\n",
        "\n",
        "* \"Deaths\" : needs casting from object to int \n",
        "* Same for \"Death Rate \" and Age Adjusted Death Rate\n",
        "  _______________________\n",
        "  But if we tried to cast type we would found that missing values are \".\"\n",
        "\n",
        "  so let's change them first"
      ]
    },
    {
      "cell_type": "code",
      "execution_count": 24,
      "metadata": {
        "colab": {
          "base_uri": "https://localhost:8080/"
        },
        "id": "wuDG8ICa8IIm",
        "outputId": "15ae1643-dd18-436f-bd7c-3825e9d65047"
      },
      "outputs": [
        {
          "data": {
            "text/plain": [
              "(1094, 7)"
            ]
          },
          "execution_count": 24,
          "metadata": {},
          "output_type": "execute_result"
        }
      ],
      "source": [
        "deaths.shape\n"
      ]
    },
    {
      "cell_type": "code",
      "execution_count": 25,
      "metadata": {},
      "outputs": [
        {
          "data": {
            "text/plain": [
              "26"
            ]
          },
          "execution_count": 25,
          "metadata": {},
          "output_type": "execute_result"
        }
      ],
      "source": [
        "deaths[\"Leading Cause\"].nunique()"
      ]
    },
    {
      "attachments": {},
      "cell_type": "markdown",
      "metadata": {},
      "source": [
        "#### Since number of unique causes values are 26 and the number of rows is total of 1094 ,so we can interpolate the values using mean valus\n"
      ]
    },
    {
      "cell_type": "code",
      "execution_count": 29,
      "metadata": {},
      "outputs": [],
      "source": [
        "# cHange periods \n",
        "deaths[\"Deaths\"] = [int(x)  if x != '.' else 0 for x in deaths[\"Deaths\"]]\n",
        "deaths[\"Death Rate\"] = [float(x)  if x != '.' else 0 for x in deaths[\"Death Rate\"]]\n",
        "deaths[\"Age Adjusted Death Rate\"] = [float(x)  if x != '.' else 0 for x in deaths[\"Age Adjusted Death Rate\"]]"
      ]
    },
    {
      "cell_type": "code",
      "execution_count": 30,
      "metadata": {},
      "outputs": [],
      "source": [
        "# IN deaths let's just replace with the mean \n",
        "mean_d = np.mean(deaths[\"Deaths\"])\n",
        "mean_r = np.mean(deaths[\"Death Rate\"])\n",
        "mean_a = np.mean(deaths[\"Age Adjusted Death Rate\"])\n",
        "\n",
        "# replace zeros with mean\n",
        "deaths[\"Deaths\"] = [int(x)  if x !=0 else mean_d for x in deaths[\"Deaths\"]]\n",
        "deaths[\"Death Rate\"] = [float(x)  if x !=0 else mean_r for x in deaths[\"Death Rate\"]]\n",
        "deaths[\"Age Adjusted Death Rate\"] = [float(x)  if x !=0 else mean_a for x in deaths[\"Age Adjusted Death Rate\"]]"
      ]
    },
    {
      "cell_type": "code",
      "execution_count": 10,
      "metadata": {},
      "outputs": [],
      "source": [
        "deaths[\"Deaths\"] = [mean_d  if x == 0 else 0 for x in deaths[\"Deaths\"]]\n",
        "deaths[\"Death Rate\"] = [mean_r  if x == 0 else 0 for x in deaths[\"Death Rate\"]]\n",
        "deaths[\"Age Adjusted Death Rate\"] = [mean_a if x == 0 else x for x in deaths[\"Age Adjusted Death Rate\"]]"
      ]
    },
    {
      "cell_type": "code",
      "execution_count": 31,
      "metadata": {},
      "outputs": [
        {
          "name": "stdout",
          "output_type": "stream",
          "text": [
            "<class 'pandas.core.frame.DataFrame'>\n",
            "RangeIndex: 1094 entries, 0 to 1093\n",
            "Data columns (total 7 columns):\n",
            " #   Column                   Non-Null Count  Dtype  \n",
            "---  ------                   --------------  -----  \n",
            " 0   Year                     1094 non-null   int64  \n",
            " 1   Leading Cause            1094 non-null   object \n",
            " 2   Sex                      1094 non-null   object \n",
            " 3   Race Ethnicity           1094 non-null   object \n",
            " 4   Deaths                   1094 non-null   float64\n",
            " 5   Death Rate               1094 non-null   float64\n",
            " 6   Age Adjusted Death Rate  1094 non-null   float64\n",
            "dtypes: float64(3), int64(1), object(3)\n",
            "memory usage: 60.0+ KB\n"
          ]
        }
      ],
      "source": [
        "deaths.info()"
      ]
    },
    {
      "cell_type": "code",
      "execution_count": 32,
      "metadata": {
        "colab": {
          "base_uri": "https://localhost:8080/"
        },
        "id": "vPQFNwYT8QpY",
        "outputId": "e0741721-d130-407f-86a2-b3fde0f50156"
      },
      "outputs": [
        {
          "data": {
            "text/plain": [
              "Index(['Year', 'Leading Cause', 'Sex', 'Race Ethnicity', 'Deaths',\n",
              "       'Death Rate', 'Age Adjusted Death Rate'],\n",
              "      dtype='object')"
            ]
          },
          "execution_count": 32,
          "metadata": {},
          "output_type": "execute_result"
        }
      ],
      "source": [
        "deaths.columns"
      ]
    },
    {
      "cell_type": "code",
      "execution_count": 34,
      "metadata": {
        "colab": {
          "base_uri": "https://localhost:8080/",
          "height": 300
        },
        "id": "-GOhcxed8WbQ",
        "outputId": "1b0e611c-fae6-4879-e7d0-7a3524f90ffa"
      },
      "outputs": [
        {
          "data": {
            "text/html": [
              "<div>\n",
              "<style scoped>\n",
              "    .dataframe tbody tr th:only-of-type {\n",
              "        vertical-align: middle;\n",
              "    }\n",
              "\n",
              "    .dataframe tbody tr th {\n",
              "        vertical-align: top;\n",
              "    }\n",
              "\n",
              "    .dataframe thead th {\n",
              "        text-align: right;\n",
              "    }\n",
              "</style>\n",
              "<table border=\"1\" class=\"dataframe\">\n",
              "  <thead>\n",
              "    <tr style=\"text-align: right;\">\n",
              "      <th></th>\n",
              "      <th>Year</th>\n",
              "      <th>Deaths</th>\n",
              "      <th>Death Rate</th>\n",
              "      <th>Age Adjusted Death Rate</th>\n",
              "    </tr>\n",
              "  </thead>\n",
              "  <tbody>\n",
              "    <tr>\n",
              "      <th>count</th>\n",
              "      <td>1094.000000</td>\n",
              "      <td>1094.000000</td>\n",
              "      <td>1094.000000</td>\n",
              "      <td>1094.000000</td>\n",
              "    </tr>\n",
              "    <tr>\n",
              "      <th>mean</th>\n",
              "      <td>2010.477148</td>\n",
              "      <td>437.484782</td>\n",
              "      <td>46.786156</td>\n",
              "      <td>46.806684</td>\n",
              "    </tr>\n",
              "    <tr>\n",
              "      <th>std</th>\n",
              "      <td>2.293419</td>\n",
              "      <td>822.884325</td>\n",
              "      <td>62.202794</td>\n",
              "      <td>56.302261</td>\n",
              "    </tr>\n",
              "    <tr>\n",
              "      <th>min</th>\n",
              "      <td>2007.000000</td>\n",
              "      <td>5.000000</td>\n",
              "      <td>2.400000</td>\n",
              "      <td>2.500000</td>\n",
              "    </tr>\n",
              "    <tr>\n",
              "      <th>25%</th>\n",
              "      <td>2008.000000</td>\n",
              "      <td>47.000000</td>\n",
              "      <td>15.800000</td>\n",
              "      <td>16.950000</td>\n",
              "    </tr>\n",
              "    <tr>\n",
              "      <th>50%</th>\n",
              "      <td>2010.000000</td>\n",
              "      <td>186.000000</td>\n",
              "      <td>34.583821</td>\n",
              "      <td>34.598995</td>\n",
              "    </tr>\n",
              "    <tr>\n",
              "      <th>75%</th>\n",
              "      <td>2012.000000</td>\n",
              "      <td>388.480804</td>\n",
              "      <td>34.583821</td>\n",
              "      <td>34.598995</td>\n",
              "    </tr>\n",
              "    <tr>\n",
              "      <th>max</th>\n",
              "      <td>2014.000000</td>\n",
              "      <td>7050.000000</td>\n",
              "      <td>491.400000</td>\n",
              "      <td>350.700000</td>\n",
              "    </tr>\n",
              "  </tbody>\n",
              "</table>\n",
              "</div>"
            ],
            "text/plain": [
              "              Year       Deaths   Death Rate  Age Adjusted Death Rate\n",
              "count  1094.000000  1094.000000  1094.000000              1094.000000\n",
              "mean   2010.477148   437.484782    46.786156                46.806684\n",
              "std       2.293419   822.884325    62.202794                56.302261\n",
              "min    2007.000000     5.000000     2.400000                 2.500000\n",
              "25%    2008.000000    47.000000    15.800000                16.950000\n",
              "50%    2010.000000   186.000000    34.583821                34.598995\n",
              "75%    2012.000000   388.480804    34.583821                34.598995\n",
              "max    2014.000000  7050.000000   491.400000               350.700000"
            ]
          },
          "execution_count": 34,
          "metadata": {},
          "output_type": "execute_result"
        }
      ],
      "source": [
        "# Lets do some data understanding\n",
        "\n",
        "deaths.describe()"
      ]
    },
    {
      "cell_type": "code",
      "execution_count": 47,
      "metadata": {},
      "outputs": [
        {
          "name": "stdout",
          "output_type": "stream",
          "text": [
            "Years are \n",
            "from : 2007\n",
            "To : 2014  Approx  8  years\n",
            "Total number of deaths in  8  years is  478609\n"
          ]
        }
      ],
      "source": [
        "# Years\n",
        "print(\"Years are \\nfrom :\" , min(deaths.Year))\n",
        "print(\"To :\" , max(deaths.Year) , \" Approx \", deaths.Year.nunique() , \" years\")\n",
        "print(\"Total number of deaths in \",deaths.Year.nunique(),\" years is \", ceil(sum(deaths.Deaths)) )"
      ]
    },
    {
      "attachments": {},
      "cell_type": "markdown",
      "metadata": {},
      "source": [
        "## Deep dive\n",
        " **Deaths** All deaths \n",
        "* avg of deaths for each cause is around 50 and also close from the adjusted rate which is around 45"
      ]
    },
    {
      "cell_type": "code",
      "execution_count": 35,
      "metadata": {},
      "outputs": [
        {
          "data": {
            "text/html": [
              "<div>\n",
              "<style scoped>\n",
              "    .dataframe tbody tr th:only-of-type {\n",
              "        vertical-align: middle;\n",
              "    }\n",
              "\n",
              "    .dataframe tbody tr th {\n",
              "        vertical-align: top;\n",
              "    }\n",
              "\n",
              "    .dataframe thead th {\n",
              "        text-align: right;\n",
              "    }\n",
              "</style>\n",
              "<table border=\"1\" class=\"dataframe\">\n",
              "  <thead>\n",
              "    <tr style=\"text-align: right;\">\n",
              "      <th></th>\n",
              "      <th>Year</th>\n",
              "      <th>Leading Cause</th>\n",
              "      <th>Sex</th>\n",
              "      <th>Race Ethnicity</th>\n",
              "      <th>Deaths</th>\n",
              "      <th>Death Rate</th>\n",
              "      <th>Age Adjusted Death Rate</th>\n",
              "    </tr>\n",
              "  </thead>\n",
              "  <tbody>\n",
              "    <tr>\n",
              "      <th>0</th>\n",
              "      <td>2011</td>\n",
              "      <td>Chronic Lower Respiratory Diseases (J40-J47)</td>\n",
              "      <td>M</td>\n",
              "      <td>White Non-Hispanic</td>\n",
              "      <td>444.0</td>\n",
              "      <td>33.300000</td>\n",
              "      <td>27.800000</td>\n",
              "    </tr>\n",
              "    <tr>\n",
              "      <th>1</th>\n",
              "      <td>2008</td>\n",
              "      <td>Malignant Neoplasms (Cancer: C00-C97)</td>\n",
              "      <td>M</td>\n",
              "      <td>White Non-Hispanic</td>\n",
              "      <td>3361.0</td>\n",
              "      <td>250.400000</td>\n",
              "      <td>214.300000</td>\n",
              "    </tr>\n",
              "    <tr>\n",
              "      <th>2</th>\n",
              "      <td>2010</td>\n",
              "      <td>Chronic Liver Disease and Cirrhosis (K70, K73)</td>\n",
              "      <td>M</td>\n",
              "      <td>Hispanic</td>\n",
              "      <td>150.0</td>\n",
              "      <td>13.100000</td>\n",
              "      <td>17.600000</td>\n",
              "    </tr>\n",
              "    <tr>\n",
              "      <th>3</th>\n",
              "      <td>2014</td>\n",
              "      <td>Malignant Neoplasms (Cancer: C00-C97)</td>\n",
              "      <td>M</td>\n",
              "      <td>Hispanic</td>\n",
              "      <td>1146.0</td>\n",
              "      <td>96.000000</td>\n",
              "      <td>143.500000</td>\n",
              "    </tr>\n",
              "    <tr>\n",
              "      <th>4</th>\n",
              "      <td>2014</td>\n",
              "      <td>Certain Conditions originating in the Perinata...</td>\n",
              "      <td>M</td>\n",
              "      <td>Not Stated/Unknown</td>\n",
              "      <td>25.0</td>\n",
              "      <td>34.583821</td>\n",
              "      <td>34.598995</td>\n",
              "    </tr>\n",
              "  </tbody>\n",
              "</table>\n",
              "</div>"
            ],
            "text/plain": [
              "   Year                                      Leading Cause Sex  \\\n",
              "0  2011       Chronic Lower Respiratory Diseases (J40-J47)   M   \n",
              "1  2008              Malignant Neoplasms (Cancer: C00-C97)   M   \n",
              "2  2010     Chronic Liver Disease and Cirrhosis (K70, K73)   M   \n",
              "3  2014              Malignant Neoplasms (Cancer: C00-C97)   M   \n",
              "4  2014  Certain Conditions originating in the Perinata...   M   \n",
              "\n",
              "       Race Ethnicity  Deaths  Death Rate  Age Adjusted Death Rate  \n",
              "0  White Non-Hispanic   444.0   33.300000                27.800000  \n",
              "1  White Non-Hispanic  3361.0  250.400000               214.300000  \n",
              "2            Hispanic   150.0   13.100000                17.600000  \n",
              "3            Hispanic  1146.0   96.000000               143.500000  \n",
              "4  Not Stated/Unknown    25.0   34.583821                34.598995  "
            ]
          },
          "execution_count": 35,
          "metadata": {},
          "output_type": "execute_result"
        }
      ],
      "source": [
        "deaths.head(5)"
      ]
    },
    {
      "attachments": {},
      "cell_type": "markdown",
      "metadata": {
        "id": "utXr4XABB-_B"
      },
      "source": [
        "# Analysis\n",
        "\n",
        "* which Year has the most deaths ?\n",
        "* what are the top 5 leading causes of deaths ?\n",
        "* Deaths are common among males or females ?"
      ]
    },
    {
      "cell_type": "code",
      "execution_count": 37,
      "metadata": {},
      "outputs": [
        {
          "data": {
            "text/plain": [
              "array(['White Non-Hispanic', 'Hispanic', 'Not Stated/Unknown',\n",
              "       'Asian and Pacific Islander', 'Black Non-Hispanic',\n",
              "       'Other Race/ Ethnicity'], dtype=object)"
            ]
          },
          "execution_count": 37,
          "metadata": {},
          "output_type": "execute_result"
        }
      ],
      "source": [
        "# top 5 causes \n",
        "deaths['Race Ethnicity'].unique()"
      ]
    },
    {
      "cell_type": "code",
      "execution_count": 67,
      "metadata": {},
      "outputs": [
        {
          "data": {
            "text/plain": [
              "8"
            ]
          },
          "execution_count": 67,
          "metadata": {},
          "output_type": "execute_result"
        }
      ],
      "source": [
        "deaths.Year.nunique()"
      ]
    },
    {
      "cell_type": "code",
      "execution_count": 58,
      "metadata": {},
      "outputs": [
        {
          "data": {
            "text/html": [
              "<div>\n",
              "<style scoped>\n",
              "    .dataframe tbody tr th:only-of-type {\n",
              "        vertical-align: middle;\n",
              "    }\n",
              "\n",
              "    .dataframe tbody tr th {\n",
              "        vertical-align: top;\n",
              "    }\n",
              "\n",
              "    .dataframe thead th {\n",
              "        text-align: right;\n",
              "    }\n",
              "</style>\n",
              "<table border=\"1\" class=\"dataframe\">\n",
              "  <thead>\n",
              "    <tr style=\"text-align: right;\">\n",
              "      <th></th>\n",
              "      <th>Year</th>\n",
              "      <th>Leading Cause</th>\n",
              "      <th>Sex</th>\n",
              "      <th>Race Ethnicity</th>\n",
              "      <th>Deaths</th>\n",
              "      <th>Death Rate</th>\n",
              "      <th>Age Adjusted Death Rate</th>\n",
              "    </tr>\n",
              "  </thead>\n",
              "  <tbody>\n",
              "    <tr>\n",
              "      <th>402</th>\n",
              "      <td>2007</td>\n",
              "      <td>Diseases of Heart (I00-I09, I11, I13, I20-I51)</td>\n",
              "      <td>F</td>\n",
              "      <td>White Non-Hispanic</td>\n",
              "      <td>7050.0</td>\n",
              "      <td>491.4</td>\n",
              "      <td>250.7</td>\n",
              "    </tr>\n",
              "    <tr>\n",
              "      <th>455</th>\n",
              "      <td>2008</td>\n",
              "      <td>Diseases of Heart (I00-I09, I11, I13, I20-I51)</td>\n",
              "      <td>F</td>\n",
              "      <td>White Non-Hispanic</td>\n",
              "      <td>6836.0</td>\n",
              "      <td>476.2</td>\n",
              "      <td>245.5</td>\n",
              "    </tr>\n",
              "    <tr>\n",
              "      <th>181</th>\n",
              "      <td>2009</td>\n",
              "      <td>Diseases of Heart (I00-I09, I11, I13, I20-I51)</td>\n",
              "      <td>F</td>\n",
              "      <td>White Non-Hispanic</td>\n",
              "      <td>6297.0</td>\n",
              "      <td>438.3</td>\n",
              "      <td>226.2</td>\n",
              "    </tr>\n",
              "    <tr>\n",
              "      <th>728</th>\n",
              "      <td>2007</td>\n",
              "      <td>Diseases of Heart (I00-I09, I11, I13, I20-I51)</td>\n",
              "      <td>M</td>\n",
              "      <td>White Non-Hispanic</td>\n",
              "      <td>5632.0</td>\n",
              "      <td>421.0</td>\n",
              "      <td>350.7</td>\n",
              "    </tr>\n",
              "    <tr>\n",
              "      <th>1047</th>\n",
              "      <td>2008</td>\n",
              "      <td>Diseases of Heart (I00-I09, I11, I13, I20-I51)</td>\n",
              "      <td>M</td>\n",
              "      <td>White Non-Hispanic</td>\n",
              "      <td>5503.0</td>\n",
              "      <td>410.0</td>\n",
              "      <td>342.3</td>\n",
              "    </tr>\n",
              "  </tbody>\n",
              "</table>\n",
              "</div>"
            ],
            "text/plain": [
              "      Year                                   Leading Cause Sex  \\\n",
              "402   2007  Diseases of Heart (I00-I09, I11, I13, I20-I51)   F   \n",
              "455   2008  Diseases of Heart (I00-I09, I11, I13, I20-I51)   F   \n",
              "181   2009  Diseases of Heart (I00-I09, I11, I13, I20-I51)   F   \n",
              "728   2007  Diseases of Heart (I00-I09, I11, I13, I20-I51)   M   \n",
              "1047  2008  Diseases of Heart (I00-I09, I11, I13, I20-I51)   M   \n",
              "\n",
              "          Race Ethnicity  Deaths  Death Rate  Age Adjusted Death Rate  \n",
              "402   White Non-Hispanic  7050.0       491.4                    250.7  \n",
              "455   White Non-Hispanic  6836.0       476.2                    245.5  \n",
              "181   White Non-Hispanic  6297.0       438.3                    226.2  \n",
              "728   White Non-Hispanic  5632.0       421.0                    350.7  \n",
              "1047  White Non-Hispanic  5503.0       410.0                    342.3  "
            ]
          },
          "execution_count": 58,
          "metadata": {},
          "output_type": "execute_result"
        }
      ],
      "source": [
        "# 1 top 5 leading causes between past and present\n",
        "top =deaths.sort_values(by=['Deaths'],ascending=False).head(5)\n",
        "top"
      ]
    },
    {
      "cell_type": "code",
      "execution_count": 62,
      "metadata": {},
      "outputs": [
        {
          "data": {
            "application/vnd.plotly.v1+json": {
              "config": {
                "plotlyServerURL": "https://plot.ly"
              },
              "data": [
                {
                  "alignmentgroup": "True",
                  "hovertemplate": "Sex=F<br>Year=%{x}<br>Deaths=%{y}<extra></extra>",
                  "legendgroup": "F",
                  "marker": {
                    "color": "#636efa",
                    "pattern": {
                      "shape": ""
                    }
                  },
                  "name": "F",
                  "offsetgroup": "F",
                  "orientation": "v",
                  "showlegend": true,
                  "textposition": "auto",
                  "type": "bar",
                  "x": [
                    2007,
                    2008,
                    2009
                  ],
                  "xaxis": "x",
                  "y": [
                    7050,
                    6836,
                    6297
                  ],
                  "yaxis": "y"
                },
                {
                  "alignmentgroup": "True",
                  "hovertemplate": "Sex=M<br>Year=%{x}<br>Deaths=%{y}<extra></extra>",
                  "legendgroup": "M",
                  "marker": {
                    "color": "#EF553B",
                    "pattern": {
                      "shape": ""
                    }
                  },
                  "name": "M",
                  "offsetgroup": "M",
                  "orientation": "v",
                  "showlegend": true,
                  "textposition": "auto",
                  "type": "bar",
                  "x": [
                    2007,
                    2008
                  ],
                  "xaxis": "x",
                  "y": [
                    5632,
                    5503
                  ],
                  "yaxis": "y"
                }
              ],
              "layout": {
                "barmode": "relative",
                "legend": {
                  "title": {
                    "text": "Sex"
                  },
                  "tracegroupgap": 0
                },
                "template": {
                  "data": {
                    "bar": [
                      {
                        "error_x": {
                          "color": "#2a3f5f"
                        },
                        "error_y": {
                          "color": "#2a3f5f"
                        },
                        "marker": {
                          "line": {
                            "color": "#E5ECF6",
                            "width": 0.5
                          },
                          "pattern": {
                            "fillmode": "overlay",
                            "size": 10,
                            "solidity": 0.2
                          }
                        },
                        "type": "bar"
                      }
                    ],
                    "barpolar": [
                      {
                        "marker": {
                          "line": {
                            "color": "#E5ECF6",
                            "width": 0.5
                          },
                          "pattern": {
                            "fillmode": "overlay",
                            "size": 10,
                            "solidity": 0.2
                          }
                        },
                        "type": "barpolar"
                      }
                    ],
                    "carpet": [
                      {
                        "aaxis": {
                          "endlinecolor": "#2a3f5f",
                          "gridcolor": "white",
                          "linecolor": "white",
                          "minorgridcolor": "white",
                          "startlinecolor": "#2a3f5f"
                        },
                        "baxis": {
                          "endlinecolor": "#2a3f5f",
                          "gridcolor": "white",
                          "linecolor": "white",
                          "minorgridcolor": "white",
                          "startlinecolor": "#2a3f5f"
                        },
                        "type": "carpet"
                      }
                    ],
                    "choropleth": [
                      {
                        "colorbar": {
                          "outlinewidth": 0,
                          "ticks": ""
                        },
                        "type": "choropleth"
                      }
                    ],
                    "contour": [
                      {
                        "colorbar": {
                          "outlinewidth": 0,
                          "ticks": ""
                        },
                        "colorscale": [
                          [
                            0,
                            "#0d0887"
                          ],
                          [
                            0.1111111111111111,
                            "#46039f"
                          ],
                          [
                            0.2222222222222222,
                            "#7201a8"
                          ],
                          [
                            0.3333333333333333,
                            "#9c179e"
                          ],
                          [
                            0.4444444444444444,
                            "#bd3786"
                          ],
                          [
                            0.5555555555555556,
                            "#d8576b"
                          ],
                          [
                            0.6666666666666666,
                            "#ed7953"
                          ],
                          [
                            0.7777777777777778,
                            "#fb9f3a"
                          ],
                          [
                            0.8888888888888888,
                            "#fdca26"
                          ],
                          [
                            1,
                            "#f0f921"
                          ]
                        ],
                        "type": "contour"
                      }
                    ],
                    "contourcarpet": [
                      {
                        "colorbar": {
                          "outlinewidth": 0,
                          "ticks": ""
                        },
                        "type": "contourcarpet"
                      }
                    ],
                    "heatmap": [
                      {
                        "colorbar": {
                          "outlinewidth": 0,
                          "ticks": ""
                        },
                        "colorscale": [
                          [
                            0,
                            "#0d0887"
                          ],
                          [
                            0.1111111111111111,
                            "#46039f"
                          ],
                          [
                            0.2222222222222222,
                            "#7201a8"
                          ],
                          [
                            0.3333333333333333,
                            "#9c179e"
                          ],
                          [
                            0.4444444444444444,
                            "#bd3786"
                          ],
                          [
                            0.5555555555555556,
                            "#d8576b"
                          ],
                          [
                            0.6666666666666666,
                            "#ed7953"
                          ],
                          [
                            0.7777777777777778,
                            "#fb9f3a"
                          ],
                          [
                            0.8888888888888888,
                            "#fdca26"
                          ],
                          [
                            1,
                            "#f0f921"
                          ]
                        ],
                        "type": "heatmap"
                      }
                    ],
                    "heatmapgl": [
                      {
                        "colorbar": {
                          "outlinewidth": 0,
                          "ticks": ""
                        },
                        "colorscale": [
                          [
                            0,
                            "#0d0887"
                          ],
                          [
                            0.1111111111111111,
                            "#46039f"
                          ],
                          [
                            0.2222222222222222,
                            "#7201a8"
                          ],
                          [
                            0.3333333333333333,
                            "#9c179e"
                          ],
                          [
                            0.4444444444444444,
                            "#bd3786"
                          ],
                          [
                            0.5555555555555556,
                            "#d8576b"
                          ],
                          [
                            0.6666666666666666,
                            "#ed7953"
                          ],
                          [
                            0.7777777777777778,
                            "#fb9f3a"
                          ],
                          [
                            0.8888888888888888,
                            "#fdca26"
                          ],
                          [
                            1,
                            "#f0f921"
                          ]
                        ],
                        "type": "heatmapgl"
                      }
                    ],
                    "histogram": [
                      {
                        "marker": {
                          "pattern": {
                            "fillmode": "overlay",
                            "size": 10,
                            "solidity": 0.2
                          }
                        },
                        "type": "histogram"
                      }
                    ],
                    "histogram2d": [
                      {
                        "colorbar": {
                          "outlinewidth": 0,
                          "ticks": ""
                        },
                        "colorscale": [
                          [
                            0,
                            "#0d0887"
                          ],
                          [
                            0.1111111111111111,
                            "#46039f"
                          ],
                          [
                            0.2222222222222222,
                            "#7201a8"
                          ],
                          [
                            0.3333333333333333,
                            "#9c179e"
                          ],
                          [
                            0.4444444444444444,
                            "#bd3786"
                          ],
                          [
                            0.5555555555555556,
                            "#d8576b"
                          ],
                          [
                            0.6666666666666666,
                            "#ed7953"
                          ],
                          [
                            0.7777777777777778,
                            "#fb9f3a"
                          ],
                          [
                            0.8888888888888888,
                            "#fdca26"
                          ],
                          [
                            1,
                            "#f0f921"
                          ]
                        ],
                        "type": "histogram2d"
                      }
                    ],
                    "histogram2dcontour": [
                      {
                        "colorbar": {
                          "outlinewidth": 0,
                          "ticks": ""
                        },
                        "colorscale": [
                          [
                            0,
                            "#0d0887"
                          ],
                          [
                            0.1111111111111111,
                            "#46039f"
                          ],
                          [
                            0.2222222222222222,
                            "#7201a8"
                          ],
                          [
                            0.3333333333333333,
                            "#9c179e"
                          ],
                          [
                            0.4444444444444444,
                            "#bd3786"
                          ],
                          [
                            0.5555555555555556,
                            "#d8576b"
                          ],
                          [
                            0.6666666666666666,
                            "#ed7953"
                          ],
                          [
                            0.7777777777777778,
                            "#fb9f3a"
                          ],
                          [
                            0.8888888888888888,
                            "#fdca26"
                          ],
                          [
                            1,
                            "#f0f921"
                          ]
                        ],
                        "type": "histogram2dcontour"
                      }
                    ],
                    "mesh3d": [
                      {
                        "colorbar": {
                          "outlinewidth": 0,
                          "ticks": ""
                        },
                        "type": "mesh3d"
                      }
                    ],
                    "parcoords": [
                      {
                        "line": {
                          "colorbar": {
                            "outlinewidth": 0,
                            "ticks": ""
                          }
                        },
                        "type": "parcoords"
                      }
                    ],
                    "pie": [
                      {
                        "automargin": true,
                        "type": "pie"
                      }
                    ],
                    "scatter": [
                      {
                        "fillpattern": {
                          "fillmode": "overlay",
                          "size": 10,
                          "solidity": 0.2
                        },
                        "type": "scatter"
                      }
                    ],
                    "scatter3d": [
                      {
                        "line": {
                          "colorbar": {
                            "outlinewidth": 0,
                            "ticks": ""
                          }
                        },
                        "marker": {
                          "colorbar": {
                            "outlinewidth": 0,
                            "ticks": ""
                          }
                        },
                        "type": "scatter3d"
                      }
                    ],
                    "scattercarpet": [
                      {
                        "marker": {
                          "colorbar": {
                            "outlinewidth": 0,
                            "ticks": ""
                          }
                        },
                        "type": "scattercarpet"
                      }
                    ],
                    "scattergeo": [
                      {
                        "marker": {
                          "colorbar": {
                            "outlinewidth": 0,
                            "ticks": ""
                          }
                        },
                        "type": "scattergeo"
                      }
                    ],
                    "scattergl": [
                      {
                        "marker": {
                          "colorbar": {
                            "outlinewidth": 0,
                            "ticks": ""
                          }
                        },
                        "type": "scattergl"
                      }
                    ],
                    "scattermapbox": [
                      {
                        "marker": {
                          "colorbar": {
                            "outlinewidth": 0,
                            "ticks": ""
                          }
                        },
                        "type": "scattermapbox"
                      }
                    ],
                    "scatterpolar": [
                      {
                        "marker": {
                          "colorbar": {
                            "outlinewidth": 0,
                            "ticks": ""
                          }
                        },
                        "type": "scatterpolar"
                      }
                    ],
                    "scatterpolargl": [
                      {
                        "marker": {
                          "colorbar": {
                            "outlinewidth": 0,
                            "ticks": ""
                          }
                        },
                        "type": "scatterpolargl"
                      }
                    ],
                    "scatterternary": [
                      {
                        "marker": {
                          "colorbar": {
                            "outlinewidth": 0,
                            "ticks": ""
                          }
                        },
                        "type": "scatterternary"
                      }
                    ],
                    "surface": [
                      {
                        "colorbar": {
                          "outlinewidth": 0,
                          "ticks": ""
                        },
                        "colorscale": [
                          [
                            0,
                            "#0d0887"
                          ],
                          [
                            0.1111111111111111,
                            "#46039f"
                          ],
                          [
                            0.2222222222222222,
                            "#7201a8"
                          ],
                          [
                            0.3333333333333333,
                            "#9c179e"
                          ],
                          [
                            0.4444444444444444,
                            "#bd3786"
                          ],
                          [
                            0.5555555555555556,
                            "#d8576b"
                          ],
                          [
                            0.6666666666666666,
                            "#ed7953"
                          ],
                          [
                            0.7777777777777778,
                            "#fb9f3a"
                          ],
                          [
                            0.8888888888888888,
                            "#fdca26"
                          ],
                          [
                            1,
                            "#f0f921"
                          ]
                        ],
                        "type": "surface"
                      }
                    ],
                    "table": [
                      {
                        "cells": {
                          "fill": {
                            "color": "#EBF0F8"
                          },
                          "line": {
                            "color": "white"
                          }
                        },
                        "header": {
                          "fill": {
                            "color": "#C8D4E3"
                          },
                          "line": {
                            "color": "white"
                          }
                        },
                        "type": "table"
                      }
                    ]
                  },
                  "layout": {
                    "annotationdefaults": {
                      "arrowcolor": "#2a3f5f",
                      "arrowhead": 0,
                      "arrowwidth": 1
                    },
                    "autotypenumbers": "strict",
                    "coloraxis": {
                      "colorbar": {
                        "outlinewidth": 0,
                        "ticks": ""
                      }
                    },
                    "colorscale": {
                      "diverging": [
                        [
                          0,
                          "#8e0152"
                        ],
                        [
                          0.1,
                          "#c51b7d"
                        ],
                        [
                          0.2,
                          "#de77ae"
                        ],
                        [
                          0.3,
                          "#f1b6da"
                        ],
                        [
                          0.4,
                          "#fde0ef"
                        ],
                        [
                          0.5,
                          "#f7f7f7"
                        ],
                        [
                          0.6,
                          "#e6f5d0"
                        ],
                        [
                          0.7,
                          "#b8e186"
                        ],
                        [
                          0.8,
                          "#7fbc41"
                        ],
                        [
                          0.9,
                          "#4d9221"
                        ],
                        [
                          1,
                          "#276419"
                        ]
                      ],
                      "sequential": [
                        [
                          0,
                          "#0d0887"
                        ],
                        [
                          0.1111111111111111,
                          "#46039f"
                        ],
                        [
                          0.2222222222222222,
                          "#7201a8"
                        ],
                        [
                          0.3333333333333333,
                          "#9c179e"
                        ],
                        [
                          0.4444444444444444,
                          "#bd3786"
                        ],
                        [
                          0.5555555555555556,
                          "#d8576b"
                        ],
                        [
                          0.6666666666666666,
                          "#ed7953"
                        ],
                        [
                          0.7777777777777778,
                          "#fb9f3a"
                        ],
                        [
                          0.8888888888888888,
                          "#fdca26"
                        ],
                        [
                          1,
                          "#f0f921"
                        ]
                      ],
                      "sequentialminus": [
                        [
                          0,
                          "#0d0887"
                        ],
                        [
                          0.1111111111111111,
                          "#46039f"
                        ],
                        [
                          0.2222222222222222,
                          "#7201a8"
                        ],
                        [
                          0.3333333333333333,
                          "#9c179e"
                        ],
                        [
                          0.4444444444444444,
                          "#bd3786"
                        ],
                        [
                          0.5555555555555556,
                          "#d8576b"
                        ],
                        [
                          0.6666666666666666,
                          "#ed7953"
                        ],
                        [
                          0.7777777777777778,
                          "#fb9f3a"
                        ],
                        [
                          0.8888888888888888,
                          "#fdca26"
                        ],
                        [
                          1,
                          "#f0f921"
                        ]
                      ]
                    },
                    "colorway": [
                      "#636efa",
                      "#EF553B",
                      "#00cc96",
                      "#ab63fa",
                      "#FFA15A",
                      "#19d3f3",
                      "#FF6692",
                      "#B6E880",
                      "#FF97FF",
                      "#FECB52"
                    ],
                    "font": {
                      "color": "#2a3f5f"
                    },
                    "geo": {
                      "bgcolor": "white",
                      "lakecolor": "white",
                      "landcolor": "#E5ECF6",
                      "showlakes": true,
                      "showland": true,
                      "subunitcolor": "white"
                    },
                    "hoverlabel": {
                      "align": "left"
                    },
                    "hovermode": "closest",
                    "mapbox": {
                      "style": "light"
                    },
                    "paper_bgcolor": "white",
                    "plot_bgcolor": "#E5ECF6",
                    "polar": {
                      "angularaxis": {
                        "gridcolor": "white",
                        "linecolor": "white",
                        "ticks": ""
                      },
                      "bgcolor": "#E5ECF6",
                      "radialaxis": {
                        "gridcolor": "white",
                        "linecolor": "white",
                        "ticks": ""
                      }
                    },
                    "scene": {
                      "xaxis": {
                        "backgroundcolor": "#E5ECF6",
                        "gridcolor": "white",
                        "gridwidth": 2,
                        "linecolor": "white",
                        "showbackground": true,
                        "ticks": "",
                        "zerolinecolor": "white"
                      },
                      "yaxis": {
                        "backgroundcolor": "#E5ECF6",
                        "gridcolor": "white",
                        "gridwidth": 2,
                        "linecolor": "white",
                        "showbackground": true,
                        "ticks": "",
                        "zerolinecolor": "white"
                      },
                      "zaxis": {
                        "backgroundcolor": "#E5ECF6",
                        "gridcolor": "white",
                        "gridwidth": 2,
                        "linecolor": "white",
                        "showbackground": true,
                        "ticks": "",
                        "zerolinecolor": "white"
                      }
                    },
                    "shapedefaults": {
                      "line": {
                        "color": "#2a3f5f"
                      }
                    },
                    "ternary": {
                      "aaxis": {
                        "gridcolor": "white",
                        "linecolor": "white",
                        "ticks": ""
                      },
                      "baxis": {
                        "gridcolor": "white",
                        "linecolor": "white",
                        "ticks": ""
                      },
                      "bgcolor": "#E5ECF6",
                      "caxis": {
                        "gridcolor": "white",
                        "linecolor": "white",
                        "ticks": ""
                      }
                    },
                    "title": {
                      "x": 0.05
                    },
                    "xaxis": {
                      "automargin": true,
                      "gridcolor": "white",
                      "linecolor": "white",
                      "ticks": "",
                      "title": {
                        "standoff": 15
                      },
                      "zerolinecolor": "white",
                      "zerolinewidth": 2
                    },
                    "yaxis": {
                      "automargin": true,
                      "gridcolor": "white",
                      "linecolor": "white",
                      "ticks": "",
                      "title": {
                        "standoff": 15
                      },
                      "zerolinecolor": "white",
                      "zerolinewidth": 2
                    }
                  }
                },
                "title": {
                  "text": "Long-Form Input"
                },
                "xaxis": {
                  "anchor": "y",
                  "domain": [
                    0,
                    1
                  ],
                  "title": {
                    "text": "Year"
                  }
                },
                "yaxis": {
                  "anchor": "x",
                  "domain": [
                    0,
                    1
                  ],
                  "title": {
                    "text": "Deaths"
                  }
                }
              }
            }
          },
          "metadata": {},
          "output_type": "display_data"
        }
      ],
      "source": [
        "# first visual \n",
        "px.bar(top, x=\"Year\", y=\"Deaths\", color=\"Sex\", title=\"Deaths by Year\").show()"
      ]
    },
    {
      "attachments": {},
      "cell_type": "markdown",
      "metadata": {},
      "source": [
        "#### * In 2009 all deaths were only from females , is that a disease or what keep males safe then ?\n",
        "#### * 2007 Has the top number of deaths of total 7050\n",
        "#### * Second most deaths was in 2008 and 2009 , our data is until year 2014 , seems that life got better and less deaths after 2009"
      ]
    },
    {
      "cell_type": "code",
      "execution_count": 70,
      "metadata": {},
      "outputs": [
        {
          "data": {
            "text/html": [
              "<div>\n",
              "<style scoped>\n",
              "    .dataframe tbody tr th:only-of-type {\n",
              "        vertical-align: middle;\n",
              "    }\n",
              "\n",
              "    .dataframe tbody tr th {\n",
              "        vertical-align: top;\n",
              "    }\n",
              "\n",
              "    .dataframe thead th {\n",
              "        text-align: right;\n",
              "    }\n",
              "</style>\n",
              "<table border=\"1\" class=\"dataframe\">\n",
              "  <thead>\n",
              "    <tr style=\"text-align: right;\">\n",
              "      <th></th>\n",
              "      <th>Year</th>\n",
              "      <th>Leading Cause</th>\n",
              "      <th>Sex</th>\n",
              "      <th>Race Ethnicity</th>\n",
              "      <th>Deaths</th>\n",
              "      <th>Death Rate</th>\n",
              "      <th>Age Adjusted Death Rate</th>\n",
              "    </tr>\n",
              "  </thead>\n",
              "  <tbody>\n",
              "    <tr>\n",
              "      <th>402</th>\n",
              "      <td>2007</td>\n",
              "      <td>Diseases of Heart (I00-I09, I11, I13, I20-I51)</td>\n",
              "      <td>F</td>\n",
              "      <td>White Non-Hispanic</td>\n",
              "      <td>7050.0</td>\n",
              "      <td>491.4</td>\n",
              "      <td>250.7</td>\n",
              "    </tr>\n",
              "    <tr>\n",
              "      <th>728</th>\n",
              "      <td>2007</td>\n",
              "      <td>Diseases of Heart (I00-I09, I11, I13, I20-I51)</td>\n",
              "      <td>M</td>\n",
              "      <td>White Non-Hispanic</td>\n",
              "      <td>5632.0</td>\n",
              "      <td>421.0</td>\n",
              "      <td>350.7</td>\n",
              "    </tr>\n",
              "    <tr>\n",
              "      <th>1000</th>\n",
              "      <td>2007</td>\n",
              "      <td>Malignant Neoplasms (Cancer: C00-C97)</td>\n",
              "      <td>F</td>\n",
              "      <td>White Non-Hispanic</td>\n",
              "      <td>3518.0</td>\n",
              "      <td>245.2</td>\n",
              "      <td>167.4</td>\n",
              "    </tr>\n",
              "    <tr>\n",
              "      <th>575</th>\n",
              "      <td>2007</td>\n",
              "      <td>Malignant Neoplasms (Cancer: C00-C97)</td>\n",
              "      <td>M</td>\n",
              "      <td>White Non-Hispanic</td>\n",
              "      <td>3356.0</td>\n",
              "      <td>250.9</td>\n",
              "      <td>213.7</td>\n",
              "    </tr>\n",
              "    <tr>\n",
              "      <th>223</th>\n",
              "      <td>2007</td>\n",
              "      <td>Diseases of Heart (I00-I09, I11, I13, I20-I51)</td>\n",
              "      <td>F</td>\n",
              "      <td>Black Non-Hispanic</td>\n",
              "      <td>2722.0</td>\n",
              "      <td>258.6</td>\n",
              "      <td>247.3</td>\n",
              "    </tr>\n",
              "  </tbody>\n",
              "</table>\n",
              "</div>"
            ],
            "text/plain": [
              "      Year                                   Leading Cause Sex  \\\n",
              "402   2007  Diseases of Heart (I00-I09, I11, I13, I20-I51)   F   \n",
              "728   2007  Diseases of Heart (I00-I09, I11, I13, I20-I51)   M   \n",
              "1000  2007           Malignant Neoplasms (Cancer: C00-C97)   F   \n",
              "575   2007           Malignant Neoplasms (Cancer: C00-C97)   M   \n",
              "223   2007  Diseases of Heart (I00-I09, I11, I13, I20-I51)   F   \n",
              "\n",
              "          Race Ethnicity  Deaths  Death Rate  Age Adjusted Death Rate  \n",
              "402   White Non-Hispanic  7050.0       491.4                    250.7  \n",
              "728   White Non-Hispanic  5632.0       421.0                    350.7  \n",
              "1000  White Non-Hispanic  3518.0       245.2                    167.4  \n",
              "575   White Non-Hispanic  3356.0       250.9                    213.7  \n",
              "223   Black Non-Hispanic  2722.0       258.6                    247.3  "
            ]
          },
          "execution_count": 70,
          "metadata": {},
          "output_type": "execute_result"
        }
      ],
      "source": [
        "# Since year 2007 has the most deaths let's chech the top leading causes then \n",
        "d = deaths[deaths['Year'] == 2007]\n",
        "d =d.sort_values(by=['Deaths'],ascending=False).head(5)\n",
        "d"
      ]
    },
    {
      "cell_type": "code",
      "execution_count": 71,
      "metadata": {},
      "outputs": [
        {
          "data": {
            "application/vnd.plotly.v1+json": {
              "config": {
                "plotlyServerURL": "https://plot.ly"
              },
              "data": [
                {
                  "alignmentgroup": "True",
                  "hovertemplate": "Sex=F<br>Leading Cause=%{x}<br>Deaths=%{y}<extra></extra>",
                  "legendgroup": "F",
                  "marker": {
                    "color": "#636efa",
                    "pattern": {
                      "shape": ""
                    }
                  },
                  "name": "F",
                  "offsetgroup": "F",
                  "orientation": "v",
                  "showlegend": true,
                  "textposition": "auto",
                  "type": "bar",
                  "x": [
                    "Diseases of Heart (I00-I09, I11, I13, I20-I51)",
                    "Malignant Neoplasms (Cancer: C00-C97)",
                    "Diseases of Heart (I00-I09, I11, I13, I20-I51)"
                  ],
                  "xaxis": "x",
                  "y": [
                    7050,
                    3518,
                    2722
                  ],
                  "yaxis": "y"
                },
                {
                  "alignmentgroup": "True",
                  "hovertemplate": "Sex=M<br>Leading Cause=%{x}<br>Deaths=%{y}<extra></extra>",
                  "legendgroup": "M",
                  "marker": {
                    "color": "#EF553B",
                    "pattern": {
                      "shape": ""
                    }
                  },
                  "name": "M",
                  "offsetgroup": "M",
                  "orientation": "v",
                  "showlegend": true,
                  "textposition": "auto",
                  "type": "bar",
                  "x": [
                    "Diseases of Heart (I00-I09, I11, I13, I20-I51)",
                    "Malignant Neoplasms (Cancer: C00-C97)"
                  ],
                  "xaxis": "x",
                  "y": [
                    5632,
                    3356
                  ],
                  "yaxis": "y"
                }
              ],
              "layout": {
                "barmode": "relative",
                "legend": {
                  "title": {
                    "text": "Sex"
                  },
                  "tracegroupgap": 0
                },
                "template": {
                  "data": {
                    "bar": [
                      {
                        "error_x": {
                          "color": "#2a3f5f"
                        },
                        "error_y": {
                          "color": "#2a3f5f"
                        },
                        "marker": {
                          "line": {
                            "color": "#E5ECF6",
                            "width": 0.5
                          },
                          "pattern": {
                            "fillmode": "overlay",
                            "size": 10,
                            "solidity": 0.2
                          }
                        },
                        "type": "bar"
                      }
                    ],
                    "barpolar": [
                      {
                        "marker": {
                          "line": {
                            "color": "#E5ECF6",
                            "width": 0.5
                          },
                          "pattern": {
                            "fillmode": "overlay",
                            "size": 10,
                            "solidity": 0.2
                          }
                        },
                        "type": "barpolar"
                      }
                    ],
                    "carpet": [
                      {
                        "aaxis": {
                          "endlinecolor": "#2a3f5f",
                          "gridcolor": "white",
                          "linecolor": "white",
                          "minorgridcolor": "white",
                          "startlinecolor": "#2a3f5f"
                        },
                        "baxis": {
                          "endlinecolor": "#2a3f5f",
                          "gridcolor": "white",
                          "linecolor": "white",
                          "minorgridcolor": "white",
                          "startlinecolor": "#2a3f5f"
                        },
                        "type": "carpet"
                      }
                    ],
                    "choropleth": [
                      {
                        "colorbar": {
                          "outlinewidth": 0,
                          "ticks": ""
                        },
                        "type": "choropleth"
                      }
                    ],
                    "contour": [
                      {
                        "colorbar": {
                          "outlinewidth": 0,
                          "ticks": ""
                        },
                        "colorscale": [
                          [
                            0,
                            "#0d0887"
                          ],
                          [
                            0.1111111111111111,
                            "#46039f"
                          ],
                          [
                            0.2222222222222222,
                            "#7201a8"
                          ],
                          [
                            0.3333333333333333,
                            "#9c179e"
                          ],
                          [
                            0.4444444444444444,
                            "#bd3786"
                          ],
                          [
                            0.5555555555555556,
                            "#d8576b"
                          ],
                          [
                            0.6666666666666666,
                            "#ed7953"
                          ],
                          [
                            0.7777777777777778,
                            "#fb9f3a"
                          ],
                          [
                            0.8888888888888888,
                            "#fdca26"
                          ],
                          [
                            1,
                            "#f0f921"
                          ]
                        ],
                        "type": "contour"
                      }
                    ],
                    "contourcarpet": [
                      {
                        "colorbar": {
                          "outlinewidth": 0,
                          "ticks": ""
                        },
                        "type": "contourcarpet"
                      }
                    ],
                    "heatmap": [
                      {
                        "colorbar": {
                          "outlinewidth": 0,
                          "ticks": ""
                        },
                        "colorscale": [
                          [
                            0,
                            "#0d0887"
                          ],
                          [
                            0.1111111111111111,
                            "#46039f"
                          ],
                          [
                            0.2222222222222222,
                            "#7201a8"
                          ],
                          [
                            0.3333333333333333,
                            "#9c179e"
                          ],
                          [
                            0.4444444444444444,
                            "#bd3786"
                          ],
                          [
                            0.5555555555555556,
                            "#d8576b"
                          ],
                          [
                            0.6666666666666666,
                            "#ed7953"
                          ],
                          [
                            0.7777777777777778,
                            "#fb9f3a"
                          ],
                          [
                            0.8888888888888888,
                            "#fdca26"
                          ],
                          [
                            1,
                            "#f0f921"
                          ]
                        ],
                        "type": "heatmap"
                      }
                    ],
                    "heatmapgl": [
                      {
                        "colorbar": {
                          "outlinewidth": 0,
                          "ticks": ""
                        },
                        "colorscale": [
                          [
                            0,
                            "#0d0887"
                          ],
                          [
                            0.1111111111111111,
                            "#46039f"
                          ],
                          [
                            0.2222222222222222,
                            "#7201a8"
                          ],
                          [
                            0.3333333333333333,
                            "#9c179e"
                          ],
                          [
                            0.4444444444444444,
                            "#bd3786"
                          ],
                          [
                            0.5555555555555556,
                            "#d8576b"
                          ],
                          [
                            0.6666666666666666,
                            "#ed7953"
                          ],
                          [
                            0.7777777777777778,
                            "#fb9f3a"
                          ],
                          [
                            0.8888888888888888,
                            "#fdca26"
                          ],
                          [
                            1,
                            "#f0f921"
                          ]
                        ],
                        "type": "heatmapgl"
                      }
                    ],
                    "histogram": [
                      {
                        "marker": {
                          "pattern": {
                            "fillmode": "overlay",
                            "size": 10,
                            "solidity": 0.2
                          }
                        },
                        "type": "histogram"
                      }
                    ],
                    "histogram2d": [
                      {
                        "colorbar": {
                          "outlinewidth": 0,
                          "ticks": ""
                        },
                        "colorscale": [
                          [
                            0,
                            "#0d0887"
                          ],
                          [
                            0.1111111111111111,
                            "#46039f"
                          ],
                          [
                            0.2222222222222222,
                            "#7201a8"
                          ],
                          [
                            0.3333333333333333,
                            "#9c179e"
                          ],
                          [
                            0.4444444444444444,
                            "#bd3786"
                          ],
                          [
                            0.5555555555555556,
                            "#d8576b"
                          ],
                          [
                            0.6666666666666666,
                            "#ed7953"
                          ],
                          [
                            0.7777777777777778,
                            "#fb9f3a"
                          ],
                          [
                            0.8888888888888888,
                            "#fdca26"
                          ],
                          [
                            1,
                            "#f0f921"
                          ]
                        ],
                        "type": "histogram2d"
                      }
                    ],
                    "histogram2dcontour": [
                      {
                        "colorbar": {
                          "outlinewidth": 0,
                          "ticks": ""
                        },
                        "colorscale": [
                          [
                            0,
                            "#0d0887"
                          ],
                          [
                            0.1111111111111111,
                            "#46039f"
                          ],
                          [
                            0.2222222222222222,
                            "#7201a8"
                          ],
                          [
                            0.3333333333333333,
                            "#9c179e"
                          ],
                          [
                            0.4444444444444444,
                            "#bd3786"
                          ],
                          [
                            0.5555555555555556,
                            "#d8576b"
                          ],
                          [
                            0.6666666666666666,
                            "#ed7953"
                          ],
                          [
                            0.7777777777777778,
                            "#fb9f3a"
                          ],
                          [
                            0.8888888888888888,
                            "#fdca26"
                          ],
                          [
                            1,
                            "#f0f921"
                          ]
                        ],
                        "type": "histogram2dcontour"
                      }
                    ],
                    "mesh3d": [
                      {
                        "colorbar": {
                          "outlinewidth": 0,
                          "ticks": ""
                        },
                        "type": "mesh3d"
                      }
                    ],
                    "parcoords": [
                      {
                        "line": {
                          "colorbar": {
                            "outlinewidth": 0,
                            "ticks": ""
                          }
                        },
                        "type": "parcoords"
                      }
                    ],
                    "pie": [
                      {
                        "automargin": true,
                        "type": "pie"
                      }
                    ],
                    "scatter": [
                      {
                        "fillpattern": {
                          "fillmode": "overlay",
                          "size": 10,
                          "solidity": 0.2
                        },
                        "type": "scatter"
                      }
                    ],
                    "scatter3d": [
                      {
                        "line": {
                          "colorbar": {
                            "outlinewidth": 0,
                            "ticks": ""
                          }
                        },
                        "marker": {
                          "colorbar": {
                            "outlinewidth": 0,
                            "ticks": ""
                          }
                        },
                        "type": "scatter3d"
                      }
                    ],
                    "scattercarpet": [
                      {
                        "marker": {
                          "colorbar": {
                            "outlinewidth": 0,
                            "ticks": ""
                          }
                        },
                        "type": "scattercarpet"
                      }
                    ],
                    "scattergeo": [
                      {
                        "marker": {
                          "colorbar": {
                            "outlinewidth": 0,
                            "ticks": ""
                          }
                        },
                        "type": "scattergeo"
                      }
                    ],
                    "scattergl": [
                      {
                        "marker": {
                          "colorbar": {
                            "outlinewidth": 0,
                            "ticks": ""
                          }
                        },
                        "type": "scattergl"
                      }
                    ],
                    "scattermapbox": [
                      {
                        "marker": {
                          "colorbar": {
                            "outlinewidth": 0,
                            "ticks": ""
                          }
                        },
                        "type": "scattermapbox"
                      }
                    ],
                    "scatterpolar": [
                      {
                        "marker": {
                          "colorbar": {
                            "outlinewidth": 0,
                            "ticks": ""
                          }
                        },
                        "type": "scatterpolar"
                      }
                    ],
                    "scatterpolargl": [
                      {
                        "marker": {
                          "colorbar": {
                            "outlinewidth": 0,
                            "ticks": ""
                          }
                        },
                        "type": "scatterpolargl"
                      }
                    ],
                    "scatterternary": [
                      {
                        "marker": {
                          "colorbar": {
                            "outlinewidth": 0,
                            "ticks": ""
                          }
                        },
                        "type": "scatterternary"
                      }
                    ],
                    "surface": [
                      {
                        "colorbar": {
                          "outlinewidth": 0,
                          "ticks": ""
                        },
                        "colorscale": [
                          [
                            0,
                            "#0d0887"
                          ],
                          [
                            0.1111111111111111,
                            "#46039f"
                          ],
                          [
                            0.2222222222222222,
                            "#7201a8"
                          ],
                          [
                            0.3333333333333333,
                            "#9c179e"
                          ],
                          [
                            0.4444444444444444,
                            "#bd3786"
                          ],
                          [
                            0.5555555555555556,
                            "#d8576b"
                          ],
                          [
                            0.6666666666666666,
                            "#ed7953"
                          ],
                          [
                            0.7777777777777778,
                            "#fb9f3a"
                          ],
                          [
                            0.8888888888888888,
                            "#fdca26"
                          ],
                          [
                            1,
                            "#f0f921"
                          ]
                        ],
                        "type": "surface"
                      }
                    ],
                    "table": [
                      {
                        "cells": {
                          "fill": {
                            "color": "#EBF0F8"
                          },
                          "line": {
                            "color": "white"
                          }
                        },
                        "header": {
                          "fill": {
                            "color": "#C8D4E3"
                          },
                          "line": {
                            "color": "white"
                          }
                        },
                        "type": "table"
                      }
                    ]
                  },
                  "layout": {
                    "annotationdefaults": {
                      "arrowcolor": "#2a3f5f",
                      "arrowhead": 0,
                      "arrowwidth": 1
                    },
                    "autotypenumbers": "strict",
                    "coloraxis": {
                      "colorbar": {
                        "outlinewidth": 0,
                        "ticks": ""
                      }
                    },
                    "colorscale": {
                      "diverging": [
                        [
                          0,
                          "#8e0152"
                        ],
                        [
                          0.1,
                          "#c51b7d"
                        ],
                        [
                          0.2,
                          "#de77ae"
                        ],
                        [
                          0.3,
                          "#f1b6da"
                        ],
                        [
                          0.4,
                          "#fde0ef"
                        ],
                        [
                          0.5,
                          "#f7f7f7"
                        ],
                        [
                          0.6,
                          "#e6f5d0"
                        ],
                        [
                          0.7,
                          "#b8e186"
                        ],
                        [
                          0.8,
                          "#7fbc41"
                        ],
                        [
                          0.9,
                          "#4d9221"
                        ],
                        [
                          1,
                          "#276419"
                        ]
                      ],
                      "sequential": [
                        [
                          0,
                          "#0d0887"
                        ],
                        [
                          0.1111111111111111,
                          "#46039f"
                        ],
                        [
                          0.2222222222222222,
                          "#7201a8"
                        ],
                        [
                          0.3333333333333333,
                          "#9c179e"
                        ],
                        [
                          0.4444444444444444,
                          "#bd3786"
                        ],
                        [
                          0.5555555555555556,
                          "#d8576b"
                        ],
                        [
                          0.6666666666666666,
                          "#ed7953"
                        ],
                        [
                          0.7777777777777778,
                          "#fb9f3a"
                        ],
                        [
                          0.8888888888888888,
                          "#fdca26"
                        ],
                        [
                          1,
                          "#f0f921"
                        ]
                      ],
                      "sequentialminus": [
                        [
                          0,
                          "#0d0887"
                        ],
                        [
                          0.1111111111111111,
                          "#46039f"
                        ],
                        [
                          0.2222222222222222,
                          "#7201a8"
                        ],
                        [
                          0.3333333333333333,
                          "#9c179e"
                        ],
                        [
                          0.4444444444444444,
                          "#bd3786"
                        ],
                        [
                          0.5555555555555556,
                          "#d8576b"
                        ],
                        [
                          0.6666666666666666,
                          "#ed7953"
                        ],
                        [
                          0.7777777777777778,
                          "#fb9f3a"
                        ],
                        [
                          0.8888888888888888,
                          "#fdca26"
                        ],
                        [
                          1,
                          "#f0f921"
                        ]
                      ]
                    },
                    "colorway": [
                      "#636efa",
                      "#EF553B",
                      "#00cc96",
                      "#ab63fa",
                      "#FFA15A",
                      "#19d3f3",
                      "#FF6692",
                      "#B6E880",
                      "#FF97FF",
                      "#FECB52"
                    ],
                    "font": {
                      "color": "#2a3f5f"
                    },
                    "geo": {
                      "bgcolor": "white",
                      "lakecolor": "white",
                      "landcolor": "#E5ECF6",
                      "showlakes": true,
                      "showland": true,
                      "subunitcolor": "white"
                    },
                    "hoverlabel": {
                      "align": "left"
                    },
                    "hovermode": "closest",
                    "mapbox": {
                      "style": "light"
                    },
                    "paper_bgcolor": "white",
                    "plot_bgcolor": "#E5ECF6",
                    "polar": {
                      "angularaxis": {
                        "gridcolor": "white",
                        "linecolor": "white",
                        "ticks": ""
                      },
                      "bgcolor": "#E5ECF6",
                      "radialaxis": {
                        "gridcolor": "white",
                        "linecolor": "white",
                        "ticks": ""
                      }
                    },
                    "scene": {
                      "xaxis": {
                        "backgroundcolor": "#E5ECF6",
                        "gridcolor": "white",
                        "gridwidth": 2,
                        "linecolor": "white",
                        "showbackground": true,
                        "ticks": "",
                        "zerolinecolor": "white"
                      },
                      "yaxis": {
                        "backgroundcolor": "#E5ECF6",
                        "gridcolor": "white",
                        "gridwidth": 2,
                        "linecolor": "white",
                        "showbackground": true,
                        "ticks": "",
                        "zerolinecolor": "white"
                      },
                      "zaxis": {
                        "backgroundcolor": "#E5ECF6",
                        "gridcolor": "white",
                        "gridwidth": 2,
                        "linecolor": "white",
                        "showbackground": true,
                        "ticks": "",
                        "zerolinecolor": "white"
                      }
                    },
                    "shapedefaults": {
                      "line": {
                        "color": "#2a3f5f"
                      }
                    },
                    "ternary": {
                      "aaxis": {
                        "gridcolor": "white",
                        "linecolor": "white",
                        "ticks": ""
                      },
                      "baxis": {
                        "gridcolor": "white",
                        "linecolor": "white",
                        "ticks": ""
                      },
                      "bgcolor": "#E5ECF6",
                      "caxis": {
                        "gridcolor": "white",
                        "linecolor": "white",
                        "ticks": ""
                      }
                    },
                    "title": {
                      "x": 0.05
                    },
                    "xaxis": {
                      "automargin": true,
                      "gridcolor": "white",
                      "linecolor": "white",
                      "ticks": "",
                      "title": {
                        "standoff": 15
                      },
                      "zerolinecolor": "white",
                      "zerolinewidth": 2
                    },
                    "yaxis": {
                      "automargin": true,
                      "gridcolor": "white",
                      "linecolor": "white",
                      "ticks": "",
                      "title": {
                        "standoff": 15
                      },
                      "zerolinecolor": "white",
                      "zerolinewidth": 2
                    }
                  }
                },
                "title": {
                  "text": "Deaths for each leading cause"
                },
                "xaxis": {
                  "anchor": "y",
                  "domain": [
                    0,
                    1
                  ],
                  "title": {
                    "text": "Leading Cause"
                  }
                },
                "yaxis": {
                  "anchor": "x",
                  "domain": [
                    0,
                    1
                  ],
                  "title": {
                    "text": "Deaths"
                  }
                }
              }
            }
          },
          "metadata": {},
          "output_type": "display_data"
        }
      ],
      "source": [
        "# second visual \n",
        "px.bar(d, x=\"Leading Cause\", y=\"Deaths\", color=\"Sex\", title=\"Deaths for each leading cause\").show()"
      ]
    },
    {
      "attachments": {},
      "cell_type": "markdown",
      "metadata": {},
      "source": [
        "#### Disease of the heart is the top leading cause for deaths in 2007"
      ]
    },
    {
      "cell_type": "code",
      "execution_count": 79,
      "metadata": {},
      "outputs": [
        {
          "data": {
            "application/vnd.plotly.v1+json": {
              "config": {
                "plotlyServerURL": "https://plot.ly"
              },
              "data": [
                {
                  "alignmentgroup": "True",
                  "bingroup": "x",
                  "hovertemplate": "Deaths=%{x}<br>count=%{y}<extra></extra>",
                  "legendgroup": "",
                  "marker": {
                    "color": "#636efa",
                    "pattern": {
                      "shape": ""
                    }
                  },
                  "name": "",
                  "offsetgroup": "",
                  "orientation": "v",
                  "showlegend": false,
                  "type": "histogram",
                  "x": [
                    444,
                    3361,
                    150,
                    1146,
                    25,
                    80,
                    42,
                    159,
                    142,
                    149,
                    6,
                    245,
                    102,
                    169,
                    27,
                    74,
                    388.4808043875686,
                    129,
                    42,
                    92,
                    11,
                    137,
                    227,
                    136,
                    299,
                    227,
                    6,
                    388.4808043875686,
                    205,
                    60,
                    162,
                    6,
                    388.4808043875686,
                    60,
                    2194,
                    344,
                    388.4808043875686,
                    14,
                    138,
                    281,
                    1348,
                    388.4808043875686,
                    416,
                    266,
                    146,
                    6,
                    7,
                    71,
                    219,
                    70,
                    200,
                    21,
                    388.4808043875686,
                    78,
                    388.4808043875686,
                    10,
                    388.4808043875686,
                    18,
                    2282,
                    56,
                    11,
                    5,
                    156,
                    388.4808043875686,
                    3408,
                    216,
                    177,
                    377,
                    88,
                    5,
                    83,
                    72,
                    51,
                    2140,
                    5,
                    388.4808043875686,
                    6,
                    388.4808043875686,
                    390,
                    57,
                    187,
                    10,
                    388.4808043875686,
                    8,
                    204,
                    2316,
                    388.4808043875686,
                    39,
                    388.4808043875686,
                    5,
                    507,
                    197,
                    79,
                    1852,
                    18,
                    271,
                    2077,
                    27,
                    172,
                    106,
                    11,
                    7,
                    49,
                    22,
                    204,
                    94,
                    208,
                    258,
                    546,
                    209,
                    290,
                    235,
                    30,
                    3142,
                    388.4808043875686,
                    388.4808043875686,
                    18,
                    132,
                    388.4808043875686,
                    388.4808043875686,
                    149,
                    8,
                    308,
                    388.4808043875686,
                    1163,
                    51,
                    187,
                    37,
                    39,
                    24,
                    1473,
                    39,
                    86,
                    164,
                    1180,
                    55,
                    14,
                    154,
                    1800,
                    89,
                    526,
                    213,
                    10,
                    7,
                    5,
                    38,
                    186,
                    5,
                    60,
                    12,
                    388.4808043875686,
                    3366,
                    201,
                    206,
                    502,
                    388.4808043875686,
                    646,
                    70,
                    6,
                    6,
                    95,
                    388.4808043875686,
                    388.4808043875686,
                    388.4808043875686,
                    409,
                    176,
                    469,
                    51,
                    115,
                    9,
                    186,
                    231,
                    521,
                    218,
                    2034,
                    180,
                    209,
                    5,
                    295,
                    2165,
                    1207,
                    6297,
                    6,
                    347,
                    59,
                    4495,
                    11,
                    4085,
                    1326,
                    17,
                    2275,
                    14,
                    5,
                    388.4808043875686,
                    352,
                    186,
                    478,
                    11,
                    12,
                    1940,
                    1958,
                    86,
                    6,
                    43,
                    148,
                    89,
                    388.4808043875686,
                    276,
                    621,
                    388.4808043875686,
                    169,
                    109,
                    107,
                    107,
                    266,
                    418,
                    618,
                    57,
                    7,
                    200,
                    388.4808043875686,
                    194,
                    65,
                    2722,
                    265,
                    2068,
                    238,
                    388.4808043875686,
                    388.4808043875686,
                    528,
                    199,
                    111,
                    388.4808043875686,
                    388.4808043875686,
                    218,
                    13,
                    4535,
                    388.4808043875686,
                    395,
                    5,
                    388.4808043875686,
                    76,
                    27,
                    42,
                    51,
                    43,
                    202,
                    123,
                    510,
                    1464,
                    206,
                    235,
                    5,
                    10,
                    9,
                    116,
                    388.4808043875686,
                    207,
                    148,
                    35,
                    8,
                    214,
                    8,
                    43,
                    633,
                    195,
                    119,
                    56,
                    196,
                    10,
                    29,
                    27,
                    207,
                    16,
                    220,
                    34,
                    5,
                    10,
                    285,
                    170,
                    13,
                    278,
                    158,
                    189,
                    155,
                    1784,
                    402,
                    7,
                    167,
                    55,
                    215,
                    2725,
                    388.4808043875686,
                    15,
                    89,
                    7,
                    258,
                    340,
                    388.4808043875686,
                    16,
                    9,
                    388.4808043875686,
                    272,
                    9,
                    279,
                    73,
                    657,
                    707,
                    19,
                    124,
                    388.4808043875686,
                    11,
                    8,
                    35,
                    388,
                    518,
                    388.4808043875686,
                    196,
                    563,
                    379,
                    388.4808043875686,
                    28,
                    17,
                    32,
                    388.4808043875686,
                    143,
                    696,
                    106,
                    182,
                    187,
                    115,
                    88,
                    18,
                    3153,
                    9,
                    70,
                    333,
                    191,
                    222,
                    74,
                    67,
                    61,
                    31,
                    24,
                    62,
                    388.4808043875686,
                    12,
                    506,
                    5,
                    388.4808043875686,
                    1069,
                    152,
                    339,
                    4719,
                    50,
                    153,
                    131,
                    78,
                    2015,
                    54,
                    25,
                    14,
                    1144,
                    8,
                    9,
                    5016,
                    388.4808043875686,
                    39,
                    388.4808043875686,
                    113,
                    220,
                    27,
                    297,
                    388.4808043875686,
                    162,
                    1483,
                    34,
                    169,
                    267,
                    243,
                    576,
                    1045,
                    173,
                    554,
                    79,
                    6,
                    1316,
                    98,
                    114,
                    3256,
                    382,
                    388.4808043875686,
                    52,
                    467,
                    1013,
                    34,
                    452,
                    388.4808043875686,
                    1125,
                    132,
                    8,
                    30,
                    7050,
                    156,
                    2445,
                    388.4808043875686,
                    156,
                    191,
                    60,
                    388.4808043875686,
                    5,
                    9,
                    388.4808043875686,
                    258,
                    285,
                    3346,
                    45,
                    29,
                    72,
                    7,
                    188,
                    11,
                    1268,
                    17,
                    33,
                    8,
                    388.4808043875686,
                    461,
                    30,
                    388.4808043875686,
                    4156,
                    134,
                    3187,
                    140,
                    5,
                    70,
                    64,
                    555,
                    79,
                    388.4808043875686,
                    11,
                    1135,
                    63,
                    211,
                    87,
                    165,
                    388.4808043875686,
                    1382,
                    388.4808043875686,
                    29,
                    1557,
                    1327,
                    388.4808043875686,
                    178,
                    388.4808043875686,
                    6836,
                    372,
                    10,
                    388.4808043875686,
                    1195,
                    388.4808043875686,
                    5,
                    5,
                    10,
                    24,
                    14,
                    53,
                    14,
                    168,
                    21,
                    8,
                    388.4808043875686,
                    68,
                    192,
                    50,
                    122,
                    225,
                    1146,
                    91,
                    1261,
                    320,
                    388.4808043875686,
                    388.4808043875686,
                    271,
                    1768,
                    71,
                    388.4808043875686,
                    410,
                    149,
                    6,
                    1563,
                    170,
                    388.4808043875686,
                    529,
                    126,
                    277,
                    458,
                    1918,
                    83,
                    15,
                    205,
                    94,
                    47,
                    123,
                    3990,
                    177,
                    261,
                    71,
                    969,
                    96,
                    206,
                    8,
                    388.4808043875686,
                    31,
                    43,
                    221,
                    1557,
                    3132,
                    84,
                    1445,
                    6,
                    93,
                    6,
                    388.4808043875686,
                    307,
                    6,
                    6,
                    41,
                    30,
                    53,
                    2444,
                    48,
                    388.4808043875686,
                    1025,
                    388.4808043875686,
                    56,
                    144,
                    414,
                    153,
                    14,
                    180,
                    53,
                    183,
                    31,
                    629,
                    1085,
                    4507,
                    22,
                    227,
                    222,
                    388.4808043875686,
                    223,
                    1824,
                    240,
                    5,
                    101,
                    292,
                    18,
                    388.4808043875686,
                    388.4808043875686,
                    228,
                    2595,
                    8,
                    36,
                    11,
                    56,
                    113,
                    1305,
                    399,
                    53,
                    32,
                    267,
                    388.4808043875686,
                    36,
                    41,
                    3356,
                    285,
                    388.4808043875686,
                    295,
                    37,
                    4220,
                    104,
                    7,
                    1680,
                    10,
                    395,
                    12,
                    388.4808043875686,
                    24,
                    40,
                    61,
                    273,
                    1216,
                    47,
                    219,
                    18,
                    276,
                    448,
                    314,
                    286,
                    384,
                    70,
                    258,
                    388.4808043875686,
                    78,
                    80,
                    8,
                    384,
                    25,
                    135,
                    191,
                    26,
                    388.4808043875686,
                    143,
                    8,
                    388.4808043875686,
                    622,
                    68,
                    200,
                    1082,
                    47,
                    14,
                    221,
                    17,
                    154,
                    2243,
                    388.4808043875686,
                    5,
                    554,
                    388.4808043875686,
                    531,
                    166,
                    1536,
                    8,
                    218,
                    1007,
                    885,
                    501,
                    18,
                    388.4808043875686,
                    1154,
                    83,
                    163,
                    388.4808043875686,
                    171,
                    388.4808043875686,
                    398,
                    1532,
                    388.4808043875686,
                    265,
                    164,
                    380,
                    275,
                    5,
                    428,
                    530,
                    204,
                    8,
                    35,
                    388.4808043875686,
                    277,
                    2269,
                    271,
                    1756,
                    388.4808043875686,
                    48,
                    73,
                    272,
                    184,
                    245,
                    90,
                    105,
                    50,
                    388.4808043875686,
                    71,
                    220,
                    1199,
                    154,
                    388.4808043875686,
                    28,
                    36,
                    358,
                    1912,
                    108,
                    318,
                    38,
                    66,
                    10,
                    388.4808043875686,
                    1307,
                    388.4808043875686,
                    190,
                    95,
                    437,
                    38,
                    274,
                    388.4808043875686,
                    1840,
                    237,
                    388.4808043875686,
                    1684,
                    142,
                    10,
                    17,
                    102,
                    388.4808043875686,
                    245,
                    175,
                    622,
                    76,
                    94,
                    6,
                    96,
                    388.4808043875686,
                    1349,
                    1868,
                    191,
                    388.4808043875686,
                    388.4808043875686,
                    16,
                    15,
                    388.4808043875686,
                    33,
                    43,
                    659,
                    371,
                    46,
                    137,
                    5632,
                    5,
                    1706,
                    388.4808043875686,
                    388.4808043875686,
                    297,
                    158,
                    75,
                    13,
                    107,
                    48,
                    25,
                    550,
                    388.4808043875686,
                    7,
                    7,
                    775,
                    394,
                    209,
                    191,
                    388.4808043875686,
                    46,
                    5,
                    76,
                    118,
                    388.4808043875686,
                    92,
                    5,
                    388.4808043875686,
                    14,
                    11,
                    84,
                    2121,
                    246,
                    6,
                    143,
                    196,
                    5,
                    388.4808043875686,
                    61,
                    43,
                    19,
                    155,
                    204,
                    242,
                    9,
                    184,
                    8,
                    329,
                    163,
                    222,
                    30,
                    1201,
                    1246,
                    402,
                    186,
                    1749,
                    95,
                    188,
                    135,
                    134,
                    3236,
                    388.4808043875686,
                    1230,
                    473,
                    46,
                    1592,
                    21,
                    48,
                    388.4808043875686,
                    388.4808043875686,
                    424,
                    46,
                    36,
                    192,
                    1097,
                    66,
                    158,
                    54,
                    28,
                    290,
                    1126,
                    388.4808043875686,
                    151,
                    388.4808043875686,
                    327,
                    228,
                    388.4808043875686,
                    1735,
                    193,
                    26,
                    34,
                    15,
                    1320,
                    1149,
                    1337,
                    22,
                    204,
                    388.4808043875686,
                    1375,
                    14,
                    154,
                    55,
                    221,
                    388.4808043875686,
                    96,
                    242,
                    238,
                    3438,
                    8,
                    259,
                    2535,
                    73,
                    11,
                    177,
                    229,
                    10,
                    1109,
                    1330,
                    148,
                    99,
                    286,
                    8,
                    8,
                    71,
                    1167,
                    388.4808043875686,
                    151,
                    116,
                    388.4808043875686,
                    214,
                    1193,
                    388.4808043875686,
                    1418,
                    145,
                    191,
                    1046,
                    255,
                    147,
                    496,
                    5,
                    174,
                    182,
                    63,
                    56,
                    515,
                    19,
                    29,
                    183,
                    300,
                    107,
                    388.4808043875686,
                    388.4808043875686,
                    388.4808043875686,
                    13,
                    25,
                    13,
                    388.4808043875686,
                    25,
                    5,
                    345,
                    388.4808043875686,
                    42,
                    111,
                    388.4808043875686,
                    75,
                    3371,
                    451,
                    58,
                    456,
                    1341,
                    99,
                    108,
                    90,
                    29,
                    39,
                    240,
                    126,
                    172,
                    132,
                    33,
                    3222,
                    26,
                    55,
                    1251,
                    68,
                    1281,
                    286,
                    20,
                    29,
                    7,
                    18,
                    6,
                    152,
                    1354,
                    388.4808043875686,
                    247,
                    36,
                    179,
                    254,
                    7,
                    82,
                    64,
                    165,
                    50,
                    9,
                    388.4808043875686,
                    1230,
                    227,
                    151,
                    274,
                    215,
                    5,
                    50,
                    272,
                    249,
                    52,
                    166,
                    227,
                    388.4808043875686,
                    205,
                    472,
                    90,
                    74,
                    36,
                    10,
                    19,
                    49,
                    36,
                    17,
                    76,
                    318,
                    17,
                    5,
                    1540,
                    7,
                    63,
                    2365,
                    820,
                    10,
                    614,
                    39,
                    102,
                    41,
                    79,
                    356,
                    2293,
                    12,
                    63,
                    9,
                    252,
                    8,
                    279,
                    388.4808043875686,
                    6,
                    50,
                    189,
                    22,
                    398,
                    253,
                    1590,
                    58,
                    189,
                    388.4808043875686,
                    90,
                    142,
                    3184,
                    2578,
                    120,
                    388.4808043875686,
                    58,
                    103,
                    3518,
                    388.4808043875686,
                    462,
                    22,
                    66,
                    12,
                    8,
                    388.4808043875686,
                    86,
                    388.4808043875686,
                    988,
                    267,
                    156,
                    26,
                    184,
                    112,
                    199,
                    33,
                    1818,
                    5168,
                    145,
                    152,
                    228,
                    15,
                    263,
                    248,
                    308,
                    220,
                    147,
                    6,
                    437,
                    200,
                    388.4808043875686,
                    83,
                    83,
                    14,
                    222,
                    281,
                    139,
                    388.4808043875686,
                    32,
                    540,
                    1067,
                    502,
                    60,
                    427,
                    199,
                    5503,
                    5,
                    7,
                    229,
                    466,
                    238,
                    6,
                    13,
                    168,
                    32,
                    410,
                    388.4808043875686,
                    271,
                    388.4808043875686,
                    147,
                    155,
                    5351,
                    388.4808043875686,
                    1057,
                    210,
                    40,
                    246,
                    87,
                    1230,
                    33,
                    70,
                    163,
                    8,
                    178,
                    221,
                    1080,
                    103,
                    199,
                    1523,
                    123,
                    388.4808043875686,
                    10,
                    7,
                    1263,
                    193,
                    279,
                    15,
                    145,
                    233,
                    231,
                    388.4808043875686,
                    292
                  ],
                  "xaxis": "x",
                  "yaxis": "y"
                }
              ],
              "layout": {
                "barmode": "relative",
                "legend": {
                  "tracegroupgap": 0
                },
                "margin": {
                  "t": 60
                },
                "template": {
                  "data": {
                    "bar": [
                      {
                        "error_x": {
                          "color": "#2a3f5f"
                        },
                        "error_y": {
                          "color": "#2a3f5f"
                        },
                        "marker": {
                          "line": {
                            "color": "#E5ECF6",
                            "width": 0.5
                          },
                          "pattern": {
                            "fillmode": "overlay",
                            "size": 10,
                            "solidity": 0.2
                          }
                        },
                        "type": "bar"
                      }
                    ],
                    "barpolar": [
                      {
                        "marker": {
                          "line": {
                            "color": "#E5ECF6",
                            "width": 0.5
                          },
                          "pattern": {
                            "fillmode": "overlay",
                            "size": 10,
                            "solidity": 0.2
                          }
                        },
                        "type": "barpolar"
                      }
                    ],
                    "carpet": [
                      {
                        "aaxis": {
                          "endlinecolor": "#2a3f5f",
                          "gridcolor": "white",
                          "linecolor": "white",
                          "minorgridcolor": "white",
                          "startlinecolor": "#2a3f5f"
                        },
                        "baxis": {
                          "endlinecolor": "#2a3f5f",
                          "gridcolor": "white",
                          "linecolor": "white",
                          "minorgridcolor": "white",
                          "startlinecolor": "#2a3f5f"
                        },
                        "type": "carpet"
                      }
                    ],
                    "choropleth": [
                      {
                        "colorbar": {
                          "outlinewidth": 0,
                          "ticks": ""
                        },
                        "type": "choropleth"
                      }
                    ],
                    "contour": [
                      {
                        "colorbar": {
                          "outlinewidth": 0,
                          "ticks": ""
                        },
                        "colorscale": [
                          [
                            0,
                            "#0d0887"
                          ],
                          [
                            0.1111111111111111,
                            "#46039f"
                          ],
                          [
                            0.2222222222222222,
                            "#7201a8"
                          ],
                          [
                            0.3333333333333333,
                            "#9c179e"
                          ],
                          [
                            0.4444444444444444,
                            "#bd3786"
                          ],
                          [
                            0.5555555555555556,
                            "#d8576b"
                          ],
                          [
                            0.6666666666666666,
                            "#ed7953"
                          ],
                          [
                            0.7777777777777778,
                            "#fb9f3a"
                          ],
                          [
                            0.8888888888888888,
                            "#fdca26"
                          ],
                          [
                            1,
                            "#f0f921"
                          ]
                        ],
                        "type": "contour"
                      }
                    ],
                    "contourcarpet": [
                      {
                        "colorbar": {
                          "outlinewidth": 0,
                          "ticks": ""
                        },
                        "type": "contourcarpet"
                      }
                    ],
                    "heatmap": [
                      {
                        "colorbar": {
                          "outlinewidth": 0,
                          "ticks": ""
                        },
                        "colorscale": [
                          [
                            0,
                            "#0d0887"
                          ],
                          [
                            0.1111111111111111,
                            "#46039f"
                          ],
                          [
                            0.2222222222222222,
                            "#7201a8"
                          ],
                          [
                            0.3333333333333333,
                            "#9c179e"
                          ],
                          [
                            0.4444444444444444,
                            "#bd3786"
                          ],
                          [
                            0.5555555555555556,
                            "#d8576b"
                          ],
                          [
                            0.6666666666666666,
                            "#ed7953"
                          ],
                          [
                            0.7777777777777778,
                            "#fb9f3a"
                          ],
                          [
                            0.8888888888888888,
                            "#fdca26"
                          ],
                          [
                            1,
                            "#f0f921"
                          ]
                        ],
                        "type": "heatmap"
                      }
                    ],
                    "heatmapgl": [
                      {
                        "colorbar": {
                          "outlinewidth": 0,
                          "ticks": ""
                        },
                        "colorscale": [
                          [
                            0,
                            "#0d0887"
                          ],
                          [
                            0.1111111111111111,
                            "#46039f"
                          ],
                          [
                            0.2222222222222222,
                            "#7201a8"
                          ],
                          [
                            0.3333333333333333,
                            "#9c179e"
                          ],
                          [
                            0.4444444444444444,
                            "#bd3786"
                          ],
                          [
                            0.5555555555555556,
                            "#d8576b"
                          ],
                          [
                            0.6666666666666666,
                            "#ed7953"
                          ],
                          [
                            0.7777777777777778,
                            "#fb9f3a"
                          ],
                          [
                            0.8888888888888888,
                            "#fdca26"
                          ],
                          [
                            1,
                            "#f0f921"
                          ]
                        ],
                        "type": "heatmapgl"
                      }
                    ],
                    "histogram": [
                      {
                        "marker": {
                          "pattern": {
                            "fillmode": "overlay",
                            "size": 10,
                            "solidity": 0.2
                          }
                        },
                        "type": "histogram"
                      }
                    ],
                    "histogram2d": [
                      {
                        "colorbar": {
                          "outlinewidth": 0,
                          "ticks": ""
                        },
                        "colorscale": [
                          [
                            0,
                            "#0d0887"
                          ],
                          [
                            0.1111111111111111,
                            "#46039f"
                          ],
                          [
                            0.2222222222222222,
                            "#7201a8"
                          ],
                          [
                            0.3333333333333333,
                            "#9c179e"
                          ],
                          [
                            0.4444444444444444,
                            "#bd3786"
                          ],
                          [
                            0.5555555555555556,
                            "#d8576b"
                          ],
                          [
                            0.6666666666666666,
                            "#ed7953"
                          ],
                          [
                            0.7777777777777778,
                            "#fb9f3a"
                          ],
                          [
                            0.8888888888888888,
                            "#fdca26"
                          ],
                          [
                            1,
                            "#f0f921"
                          ]
                        ],
                        "type": "histogram2d"
                      }
                    ],
                    "histogram2dcontour": [
                      {
                        "colorbar": {
                          "outlinewidth": 0,
                          "ticks": ""
                        },
                        "colorscale": [
                          [
                            0,
                            "#0d0887"
                          ],
                          [
                            0.1111111111111111,
                            "#46039f"
                          ],
                          [
                            0.2222222222222222,
                            "#7201a8"
                          ],
                          [
                            0.3333333333333333,
                            "#9c179e"
                          ],
                          [
                            0.4444444444444444,
                            "#bd3786"
                          ],
                          [
                            0.5555555555555556,
                            "#d8576b"
                          ],
                          [
                            0.6666666666666666,
                            "#ed7953"
                          ],
                          [
                            0.7777777777777778,
                            "#fb9f3a"
                          ],
                          [
                            0.8888888888888888,
                            "#fdca26"
                          ],
                          [
                            1,
                            "#f0f921"
                          ]
                        ],
                        "type": "histogram2dcontour"
                      }
                    ],
                    "mesh3d": [
                      {
                        "colorbar": {
                          "outlinewidth": 0,
                          "ticks": ""
                        },
                        "type": "mesh3d"
                      }
                    ],
                    "parcoords": [
                      {
                        "line": {
                          "colorbar": {
                            "outlinewidth": 0,
                            "ticks": ""
                          }
                        },
                        "type": "parcoords"
                      }
                    ],
                    "pie": [
                      {
                        "automargin": true,
                        "type": "pie"
                      }
                    ],
                    "scatter": [
                      {
                        "fillpattern": {
                          "fillmode": "overlay",
                          "size": 10,
                          "solidity": 0.2
                        },
                        "type": "scatter"
                      }
                    ],
                    "scatter3d": [
                      {
                        "line": {
                          "colorbar": {
                            "outlinewidth": 0,
                            "ticks": ""
                          }
                        },
                        "marker": {
                          "colorbar": {
                            "outlinewidth": 0,
                            "ticks": ""
                          }
                        },
                        "type": "scatter3d"
                      }
                    ],
                    "scattercarpet": [
                      {
                        "marker": {
                          "colorbar": {
                            "outlinewidth": 0,
                            "ticks": ""
                          }
                        },
                        "type": "scattercarpet"
                      }
                    ],
                    "scattergeo": [
                      {
                        "marker": {
                          "colorbar": {
                            "outlinewidth": 0,
                            "ticks": ""
                          }
                        },
                        "type": "scattergeo"
                      }
                    ],
                    "scattergl": [
                      {
                        "marker": {
                          "colorbar": {
                            "outlinewidth": 0,
                            "ticks": ""
                          }
                        },
                        "type": "scattergl"
                      }
                    ],
                    "scattermapbox": [
                      {
                        "marker": {
                          "colorbar": {
                            "outlinewidth": 0,
                            "ticks": ""
                          }
                        },
                        "type": "scattermapbox"
                      }
                    ],
                    "scatterpolar": [
                      {
                        "marker": {
                          "colorbar": {
                            "outlinewidth": 0,
                            "ticks": ""
                          }
                        },
                        "type": "scatterpolar"
                      }
                    ],
                    "scatterpolargl": [
                      {
                        "marker": {
                          "colorbar": {
                            "outlinewidth": 0,
                            "ticks": ""
                          }
                        },
                        "type": "scatterpolargl"
                      }
                    ],
                    "scatterternary": [
                      {
                        "marker": {
                          "colorbar": {
                            "outlinewidth": 0,
                            "ticks": ""
                          }
                        },
                        "type": "scatterternary"
                      }
                    ],
                    "surface": [
                      {
                        "colorbar": {
                          "outlinewidth": 0,
                          "ticks": ""
                        },
                        "colorscale": [
                          [
                            0,
                            "#0d0887"
                          ],
                          [
                            0.1111111111111111,
                            "#46039f"
                          ],
                          [
                            0.2222222222222222,
                            "#7201a8"
                          ],
                          [
                            0.3333333333333333,
                            "#9c179e"
                          ],
                          [
                            0.4444444444444444,
                            "#bd3786"
                          ],
                          [
                            0.5555555555555556,
                            "#d8576b"
                          ],
                          [
                            0.6666666666666666,
                            "#ed7953"
                          ],
                          [
                            0.7777777777777778,
                            "#fb9f3a"
                          ],
                          [
                            0.8888888888888888,
                            "#fdca26"
                          ],
                          [
                            1,
                            "#f0f921"
                          ]
                        ],
                        "type": "surface"
                      }
                    ],
                    "table": [
                      {
                        "cells": {
                          "fill": {
                            "color": "#EBF0F8"
                          },
                          "line": {
                            "color": "white"
                          }
                        },
                        "header": {
                          "fill": {
                            "color": "#C8D4E3"
                          },
                          "line": {
                            "color": "white"
                          }
                        },
                        "type": "table"
                      }
                    ]
                  },
                  "layout": {
                    "annotationdefaults": {
                      "arrowcolor": "#2a3f5f",
                      "arrowhead": 0,
                      "arrowwidth": 1
                    },
                    "autotypenumbers": "strict",
                    "coloraxis": {
                      "colorbar": {
                        "outlinewidth": 0,
                        "ticks": ""
                      }
                    },
                    "colorscale": {
                      "diverging": [
                        [
                          0,
                          "#8e0152"
                        ],
                        [
                          0.1,
                          "#c51b7d"
                        ],
                        [
                          0.2,
                          "#de77ae"
                        ],
                        [
                          0.3,
                          "#f1b6da"
                        ],
                        [
                          0.4,
                          "#fde0ef"
                        ],
                        [
                          0.5,
                          "#f7f7f7"
                        ],
                        [
                          0.6,
                          "#e6f5d0"
                        ],
                        [
                          0.7,
                          "#b8e186"
                        ],
                        [
                          0.8,
                          "#7fbc41"
                        ],
                        [
                          0.9,
                          "#4d9221"
                        ],
                        [
                          1,
                          "#276419"
                        ]
                      ],
                      "sequential": [
                        [
                          0,
                          "#0d0887"
                        ],
                        [
                          0.1111111111111111,
                          "#46039f"
                        ],
                        [
                          0.2222222222222222,
                          "#7201a8"
                        ],
                        [
                          0.3333333333333333,
                          "#9c179e"
                        ],
                        [
                          0.4444444444444444,
                          "#bd3786"
                        ],
                        [
                          0.5555555555555556,
                          "#d8576b"
                        ],
                        [
                          0.6666666666666666,
                          "#ed7953"
                        ],
                        [
                          0.7777777777777778,
                          "#fb9f3a"
                        ],
                        [
                          0.8888888888888888,
                          "#fdca26"
                        ],
                        [
                          1,
                          "#f0f921"
                        ]
                      ],
                      "sequentialminus": [
                        [
                          0,
                          "#0d0887"
                        ],
                        [
                          0.1111111111111111,
                          "#46039f"
                        ],
                        [
                          0.2222222222222222,
                          "#7201a8"
                        ],
                        [
                          0.3333333333333333,
                          "#9c179e"
                        ],
                        [
                          0.4444444444444444,
                          "#bd3786"
                        ],
                        [
                          0.5555555555555556,
                          "#d8576b"
                        ],
                        [
                          0.6666666666666666,
                          "#ed7953"
                        ],
                        [
                          0.7777777777777778,
                          "#fb9f3a"
                        ],
                        [
                          0.8888888888888888,
                          "#fdca26"
                        ],
                        [
                          1,
                          "#f0f921"
                        ]
                      ]
                    },
                    "colorway": [
                      "#636efa",
                      "#EF553B",
                      "#00cc96",
                      "#ab63fa",
                      "#FFA15A",
                      "#19d3f3",
                      "#FF6692",
                      "#B6E880",
                      "#FF97FF",
                      "#FECB52"
                    ],
                    "font": {
                      "color": "#2a3f5f"
                    },
                    "geo": {
                      "bgcolor": "white",
                      "lakecolor": "white",
                      "landcolor": "#E5ECF6",
                      "showlakes": true,
                      "showland": true,
                      "subunitcolor": "white"
                    },
                    "hoverlabel": {
                      "align": "left"
                    },
                    "hovermode": "closest",
                    "mapbox": {
                      "style": "light"
                    },
                    "paper_bgcolor": "white",
                    "plot_bgcolor": "#E5ECF6",
                    "polar": {
                      "angularaxis": {
                        "gridcolor": "white",
                        "linecolor": "white",
                        "ticks": ""
                      },
                      "bgcolor": "#E5ECF6",
                      "radialaxis": {
                        "gridcolor": "white",
                        "linecolor": "white",
                        "ticks": ""
                      }
                    },
                    "scene": {
                      "xaxis": {
                        "backgroundcolor": "#E5ECF6",
                        "gridcolor": "white",
                        "gridwidth": 2,
                        "linecolor": "white",
                        "showbackground": true,
                        "ticks": "",
                        "zerolinecolor": "white"
                      },
                      "yaxis": {
                        "backgroundcolor": "#E5ECF6",
                        "gridcolor": "white",
                        "gridwidth": 2,
                        "linecolor": "white",
                        "showbackground": true,
                        "ticks": "",
                        "zerolinecolor": "white"
                      },
                      "zaxis": {
                        "backgroundcolor": "#E5ECF6",
                        "gridcolor": "white",
                        "gridwidth": 2,
                        "linecolor": "white",
                        "showbackground": true,
                        "ticks": "",
                        "zerolinecolor": "white"
                      }
                    },
                    "shapedefaults": {
                      "line": {
                        "color": "#2a3f5f"
                      }
                    },
                    "ternary": {
                      "aaxis": {
                        "gridcolor": "white",
                        "linecolor": "white",
                        "ticks": ""
                      },
                      "baxis": {
                        "gridcolor": "white",
                        "linecolor": "white",
                        "ticks": ""
                      },
                      "bgcolor": "#E5ECF6",
                      "caxis": {
                        "gridcolor": "white",
                        "linecolor": "white",
                        "ticks": ""
                      }
                    },
                    "title": {
                      "x": 0.05
                    },
                    "xaxis": {
                      "automargin": true,
                      "gridcolor": "white",
                      "linecolor": "white",
                      "ticks": "",
                      "title": {
                        "standoff": 15
                      },
                      "zerolinecolor": "white",
                      "zerolinewidth": 2
                    },
                    "yaxis": {
                      "automargin": true,
                      "gridcolor": "white",
                      "linecolor": "white",
                      "ticks": "",
                      "title": {
                        "standoff": 15
                      },
                      "zerolinecolor": "white",
                      "zerolinewidth": 2
                    }
                  }
                },
                "xaxis": {
                  "anchor": "y",
                  "domain": [
                    0,
                    1
                  ],
                  "title": {
                    "text": "Deaths"
                  }
                },
                "yaxis": {
                  "anchor": "x",
                  "domain": [
                    0,
                    1
                  ],
                  "title": {
                    "text": "count"
                  }
                }
              }
            }
          },
          "metadata": {},
          "output_type": "display_data"
        }
      ],
      "source": [
        "# Distribution of deaths \n",
        "px.histogram(deaths,x='Deaths')"
      ]
    },
    {
      "attachments": {},
      "cell_type": "markdown",
      "metadata": {},
      "source": [
        "### Most of diseases cause death around 300 people"
      ]
    },
    {
      "cell_type": "code",
      "execution_count": null,
      "metadata": {},
      "outputs": [],
      "source": []
    },
    {
      "cell_type": "code",
      "execution_count": null,
      "metadata": {},
      "outputs": [],
      "source": []
    },
    {
      "cell_type": "code",
      "execution_count": null,
      "metadata": {},
      "outputs": [],
      "source": []
    }
  ],
  "metadata": {
    "colab": {
      "provenance": []
    },
    "kernelspec": {
      "display_name": "Python 3",
      "name": "python3"
    },
    "language_info": {
      "codemirror_mode": {
        "name": "ipython",
        "version": 3
      },
      "file_extension": ".py",
      "mimetype": "text/x-python",
      "name": "python",
      "nbconvert_exporter": "python",
      "pygments_lexer": "ipython3",
      "version": "3.9.1"
    }
  },
  "nbformat": 4,
  "nbformat_minor": 0
}
